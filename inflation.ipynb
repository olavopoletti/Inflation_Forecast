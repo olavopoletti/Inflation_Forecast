{
 "cells": [
  {
   "attachments": {},
   "cell_type": "markdown",
   "metadata": {},
   "source": [
    "# Inflation Forecast\n",
    "Evidence suggests that the processes producing inflation change over time. The data relevant to determine the inflation rate during recessions may not be influential during growth periods. That is, the model might change with Business Cycles. It is not straightforward to identify at which point of a cycle the economy is currently on, which hinders the performance of structural approaches. And also increases the time necessary to train data-driven multivariate models. Thus, an univariate, nonlinear model seems to be a good starting point.\n",
    "\n",
    "Long Short-Term Memory (LSTM) is a Recurrent Neural Network (RNN) designed to learn long sequences o data. It does not rely on pre-specified structures or windows - a good fit for forecasting time series.\n",
    "The project is [here](https://github.com/olavopoletti/Inflation_Forecast.git).\n"
   ]
  },
  {
   "attachments": {},
   "cell_type": "markdown",
   "metadata": {},
   "source": [
    "We start by importing the libraries we are going to need."
   ]
  },
  {
   "cell_type": "code",
   "execution_count": 1,
   "metadata": {},
   "outputs": [
    {
     "data": {
      "text/html": [
       "        <script type=\"text/javascript\">\n",
       "        window.PlotlyConfig = {MathJaxConfig: 'local'};\n",
       "        if (window.MathJax && window.MathJax.Hub && window.MathJax.Hub.Config) {window.MathJax.Hub.Config({SVG: {font: \"STIX-Web\"}});}\n",
       "        if (typeof require !== 'undefined') {\n",
       "        require.undef(\"plotly\");\n",
       "        requirejs.config({\n",
       "            paths: {\n",
       "                'plotly': ['https://cdn.plot.ly/plotly-2.17.1.min']\n",
       "            }\n",
       "        });\n",
       "        require(['plotly'], function(Plotly) {\n",
       "            window._Plotly = Plotly;\n",
       "        });\n",
       "        }\n",
       "        </script>\n",
       "        "
      ]
     },
     "metadata": {},
     "output_type": "display_data"
    }
   ],
   "source": [
    "# Imports\n",
    "import warnings\n",
    "warnings.filterwarnings(\"ignore\")\n",
    "import os.path\n",
    "from pathlib import Path\n",
    "import pandas as pd\n",
    "from statsmodels.tsa.seasonal import seasonal_decompose\n",
    "from statsmodels.tsa.stattools import adfuller\n",
    "import numpy as np\n",
    "from sklearn.preprocessing import MinMaxScaler\n",
    "import tensorflow as tf\n",
    "from keras.models import Sequential, save_model, load_model\n",
    "from keras.layers import Dense\n",
    "from keras.layers import LSTM\n",
    "from math import sqrt\n",
    "from matplotlib import pyplot as plt\n",
    "import plotly.graph_objects as go\n",
    "from plotly.subplots import make_subplots\n",
    "from plotly.offline import init_notebook_mode, iplot\n",
    "init_notebook_mode(connected=True)\n",
    "from sklearn.metrics import mean_squared_error"
   ]
  },
  {
   "attachments": {},
   "cell_type": "markdown",
   "metadata": {},
   "source": [
    "Next, we create a basic layout for our graphs."
   ]
  },
  {
   "cell_type": "code",
   "execution_count": 2,
   "metadata": {},
   "outputs": [],
   "source": [
    "# Basic layout for the graphics\n",
    "layout = go.Layout(\n",
    "    font_family=\"Segoe UI\",\n",
    "    font_color=\"Black\",\n",
    "    font_size=14,\n",
    "    title_font_family=\"Segoe UI\",\n",
    "    title_font_color=\"#A79AFF\",\n",
    "    title_font_size=18,\n",
    "    showlegend=False,\n",
    "    margin=dict(b = 10,l= 20,r=10,t=50),\n",
    "    xaxis=dict(\n",
    "        showgrid=False,\n",
    "        gridcolor='DarkGrey',\n",
    "        zeroline=False,\n",
    "        zerolinecolor='White',\n",
    "        zerolinewidth=2,\n",
    "        showticklabels=True,\n",
    "        ),\n",
    "    yaxis=dict(\n",
    "        showgrid=True,\n",
    "        gridcolor='White',\n",
    "        zeroline=True,\n",
    "        zerolinecolor='White',\n",
    "        zerolinewidth=2,\n",
    "        showticklabels=True\n",
    "        ),\n",
    "    plot_bgcolor='#E3DDD5',\n",
    "    paper_bgcolor='#FEFBEA',\n",
    "    autosize=True\n",
    "    )"
   ]
  },
  {
   "attachments": {},
   "cell_type": "markdown",
   "metadata": {},
   "source": [
    "## Data\n",
    "We are using monthly percentage variations on the Broad National Consumer Price Index available (IPCA) at [BACEN](https://www3.bcb.gov.br/sgspub/localizarseries/localizarSeries.do?method=prepararTelaLocalizarSeries). Let's create a Pandas data frame with data; it will make it easier for us to access the data in the format we need."
   ]
  },
  {
   "cell_type": "code",
   "execution_count": 3,
   "metadata": {},
   "outputs": [
    {
     "data": {
      "text/html": [
       "<div>\n",
       "<style scoped>\n",
       "    .dataframe tbody tr th:only-of-type {\n",
       "        vertical-align: middle;\n",
       "    }\n",
       "\n",
       "    .dataframe tbody tr th {\n",
       "        vertical-align: top;\n",
       "    }\n",
       "\n",
       "    .dataframe thead th {\n",
       "        text-align: right;\n",
       "    }\n",
       "</style>\n",
       "<table border=\"1\" class=\"dataframe\">\n",
       "  <thead>\n",
       "    <tr style=\"text-align: right;\">\n",
       "      <th></th>\n",
       "      <th>IPCA</th>\n",
       "    </tr>\n",
       "    <tr>\n",
       "      <th>Date</th>\n",
       "      <th></th>\n",
       "    </tr>\n",
       "  </thead>\n",
       "  <tbody>\n",
       "    <tr>\n",
       "      <th>1980-01-01</th>\n",
       "      <td>6.62</td>\n",
       "    </tr>\n",
       "    <tr>\n",
       "      <th>1980-02-01</th>\n",
       "      <td>4.62</td>\n",
       "    </tr>\n",
       "    <tr>\n",
       "      <th>1980-03-01</th>\n",
       "      <td>6.04</td>\n",
       "    </tr>\n",
       "    <tr>\n",
       "      <th>1980-04-01</th>\n",
       "      <td>5.29</td>\n",
       "    </tr>\n",
       "    <tr>\n",
       "      <th>1980-05-01</th>\n",
       "      <td>5.70</td>\n",
       "    </tr>\n",
       "  </tbody>\n",
       "</table>\n",
       "</div>"
      ],
      "text/plain": [
       "            IPCA\n",
       "Date            \n",
       "1980-01-01  6.62\n",
       "1980-02-01  4.62\n",
       "1980-03-01  6.04\n",
       "1980-04-01  5.29\n",
       "1980-05-01  5.70"
      ]
     },
     "execution_count": 3,
     "metadata": {},
     "output_type": "execute_result"
    }
   ],
   "source": [
    "# Data Frame\n",
    "df = pd.read_csv(r\"monthlyInflation.csv\", sep=\";\")\n",
    "df = df.rename(\n",
    "        columns={\n",
    "                \"433 - Broad National Consumer\" \\\n",
    "                + \" Price Index (IPCA) - Monthly % var.\": \"IPCA\"\n",
    "                }\n",
    "        )\n",
    "\n",
    "# Formatting\n",
    "df = df[df.Date != \"Source\"]\n",
    "df[\"Date\"] = df.Date.astype(\"datetime64[ns]\")\n",
    "df[\"IPCA\" ] = df[\"IPCA\" ].astype(\"float\")\n",
    "df = df.set_index('Date')\n",
    "\n",
    "df.head()"
   ]
  },
  {
   "attachments": {},
   "cell_type": "markdown",
   "metadata": {},
   "source": [
    "Decomposing the series into its components - Trend, Season, and Residual - gives a better understanding of the data."
   ]
  },
  {
   "cell_type": "code",
   "execution_count": 4,
   "metadata": {},
   "outputs": [
    {
     "data": {
      "image/png": "[encoded data removed]",
      "text/plain": [
       "<Figure size 432x288 with 4 Axes>"
      ]
     },
     "execution_count": 4,
     "metadata": {},
     "output_type": "execute_result"
    },
    {
     "data": {
      "image/png": "[encoded data removed]",
      "text/plain": [
       "<Figure size 432x288 with 4 Axes>"
      ]
     },
     "metadata": {
      "needs_background": "light"
     },
     "output_type": "display_data"
    }
   ],
   "source": [
    "# Decomposing the time series\n",
    "decomposition = seasonal_decompose(df, model='additive')\n",
    "decomposition.plot()"
   ]
  },
  {
   "cell_type": "markdown",
   "metadata": {},
   "source": [
    "There is a sharp contrast between the values before and after the 'Real Plan.' Let's check how the series behave before and after July 1994 separately."
   ]
  },
  {
   "cell_type": "code",
   "execution_count": 5,
   "metadata": {},
   "outputs": [
    {
     "data": {
      "image/png": "[encoded data removed]",
      "text/plain": [
       "<Figure size 432x288 with 4 Axes>"
      ]
     },
     "execution_count": 5,
     "metadata": {},
     "output_type": "execute_result"
    },
    {
     "data": {
      "image/png": "[encoded data removed]",
      "text/plain": [
       "<Figure size 432x288 with 4 Axes>"
      ]
     },
     "metadata": {
      "needs_background": "light"
     },
     "output_type": "display_data"
    }
   ],
   "source": [
    "# Decomposition prior to July 1994\n",
    "decomposition_b = seasonal_decompose(\n",
    "    df[df.index < '1994-07-01'],\n",
    "    model='additive'\n",
    "    )\n",
    "decomposition_b.plot()"
   ]
  },
  {
   "cell_type": "code",
   "execution_count": 6,
   "metadata": {},
   "outputs": [
    {
     "data": {
      "image/png": "[encoded data removed]",
      "text/plain": [
       "<Figure size 432x288 with 4 Axes>"
      ]
     },
     "execution_count": 6,
     "metadata": {},
     "output_type": "execute_result"
    },
    {
     "data": {
      "image/png": "[encoded data removed]",
      "text/plain": [
       "<Figure size 432x288 with 4 Axes>"
      ]
     },
     "metadata": {
      "needs_background": "light"
     },
     "output_type": "display_data"
    }
   ],
   "source": [
    "# Decomposition for data after the 'Real Plan'\n",
    "decomposition_a = seasonal_decompose(\n",
    "    df[df.index >= '1994-07-01'],\n",
    "    model='additive'\n",
    "    )\n",
    "decomposition_a.plot()"
   ]
  },
  {
   "attachments": {},
   "cell_type": "markdown",
   "metadata": {},
   "source": [
    "We can see changes in the trend and the cycles - besides the magnitude of the value. It suggests that the new plan produced fundamental changes in inflation behavior. Therefore, considering data before the stabilization program would create a model with characteristics that no longer reflect the current structure of the Brazilian economy. Since economic policy takes some time to be effective, it is worthwhile considering some buffer periods."
   ]
  },
  {
   "cell_type": "code",
   "execution_count": 7,
   "metadata": {},
   "outputs": [
    {
     "data": {
      "text/html": [
       "<div>\n",
       "<style scoped>\n",
       "    .dataframe tbody tr th:only-of-type {\n",
       "        vertical-align: middle;\n",
       "    }\n",
       "\n",
       "    .dataframe tbody tr th {\n",
       "        vertical-align: top;\n",
       "    }\n",
       "\n",
       "    .dataframe thead th {\n",
       "        text-align: right;\n",
       "    }\n",
       "</style>\n",
       "<table border=\"1\" class=\"dataframe\">\n",
       "  <thead>\n",
       "    <tr style=\"text-align: right;\">\n",
       "      <th></th>\n",
       "      <th>IPCA</th>\n",
       "    </tr>\n",
       "    <tr>\n",
       "      <th>Date</th>\n",
       "      <th></th>\n",
       "    </tr>\n",
       "  </thead>\n",
       "  <tbody>\n",
       "    <tr>\n",
       "      <th>1995-01-01</th>\n",
       "      <td>1.70</td>\n",
       "    </tr>\n",
       "    <tr>\n",
       "      <th>1995-02-01</th>\n",
       "      <td>1.02</td>\n",
       "    </tr>\n",
       "    <tr>\n",
       "      <th>1995-03-01</th>\n",
       "      <td>1.55</td>\n",
       "    </tr>\n",
       "    <tr>\n",
       "      <th>1995-04-01</th>\n",
       "      <td>2.43</td>\n",
       "    </tr>\n",
       "    <tr>\n",
       "      <th>1995-05-01</th>\n",
       "      <td>2.67</td>\n",
       "    </tr>\n",
       "  </tbody>\n",
       "</table>\n",
       "</div>"
      ],
      "text/plain": [
       "            IPCA\n",
       "Date            \n",
       "1995-01-01  1.70\n",
       "1995-02-01  1.02\n",
       "1995-03-01  1.55\n",
       "1995-04-01  2.43\n",
       "1995-05-01  2.67"
      ]
     },
     "execution_count": 7,
     "metadata": {},
     "output_type": "execute_result"
    }
   ],
   "source": [
    "# Filter the dataset to exclude data prior to the 'Real Plan'\n",
    "df = df[df.index >= '1995-01-01']\n",
    "df.head()"
   ]
  },
  {
   "attachments": {},
   "cell_type": "markdown",
   "metadata": {},
   "source": [
    "Timeseries analysis depends on stationarity, so let's check for it."
   ]
  },
  {
   "cell_type": "code",
   "execution_count": 8,
   "metadata": {},
   "outputs": [
    {
     "name": "stdout",
     "output_type": "stream",
     "text": [
      "ADF Statistic: -4.856670\n",
      "p-value: 0.000042\n",
      "\t1%: -3.451\n",
      "Series is stationary\n",
      "\t5%: -2.871\n",
      "Series is stationary\n",
      "\t10%: -2.572\n",
      "Series is stationary\n"
     ]
    }
   ],
   "source": [
    "# Checking for Stationarity using Augmented Dickey–Fuller test\n",
    "def adf_test(data):\n",
    "    result = adfuller(data.values)\n",
    "    print('ADF Statistic: %f' % result[0])\n",
    "    print('p-value: %f' % result[1])\n",
    "    for key, value in result[4].items():\n",
    "        print('\\t%s: %.3f' % (key, value))\n",
    "        if result[1] > 0.01:\n",
    "            print(\"Series is not stationary\")\n",
    "        else:\n",
    "            print(\"Series is stationary\")\n",
    "\n",
    "adf_test(df)"
   ]
  },
  {
   "attachments": {},
   "cell_type": "markdown",
   "metadata": {},
   "source": [
    "Knowing that the series is stationary, we need to relate each value to its predecessors - we are trying to find how past inflation affects current and future inflation."
   ]
  },
  {
   "cell_type": "code",
   "execution_count": 9,
   "metadata": {},
   "outputs": [
    {
     "data": {
      "text/html": [
       "<div>\n",
       "<style scoped>\n",
       "    .dataframe tbody tr th:only-of-type {\n",
       "        vertical-align: middle;\n",
       "    }\n",
       "\n",
       "    .dataframe tbody tr th {\n",
       "        vertical-align: top;\n",
       "    }\n",
       "\n",
       "    .dataframe thead th {\n",
       "        text-align: right;\n",
       "    }\n",
       "</style>\n",
       "<table border=\"1\" class=\"dataframe\">\n",
       "  <thead>\n",
       "    <tr style=\"text-align: right;\">\n",
       "      <th></th>\n",
       "      <th>T-1</th>\n",
       "      <th>T-2</th>\n",
       "      <th>T-3</th>\n",
       "      <th>T-4</th>\n",
       "      <th>T-5</th>\n",
       "      <th>T-6</th>\n",
       "      <th>T-7</th>\n",
       "      <th>T-8</th>\n",
       "      <th>T-9</th>\n",
       "      <th>T-10</th>\n",
       "      <th>...</th>\n",
       "      <th>T-52</th>\n",
       "      <th>T-53</th>\n",
       "      <th>T-54</th>\n",
       "      <th>T-55</th>\n",
       "      <th>T-56</th>\n",
       "      <th>T-57</th>\n",
       "      <th>T-58</th>\n",
       "      <th>T-59</th>\n",
       "      <th>T-60</th>\n",
       "      <th>IPCA</th>\n",
       "    </tr>\n",
       "    <tr>\n",
       "      <th>Date</th>\n",
       "      <th></th>\n",
       "      <th></th>\n",
       "      <th></th>\n",
       "      <th></th>\n",
       "      <th></th>\n",
       "      <th></th>\n",
       "      <th></th>\n",
       "      <th></th>\n",
       "      <th></th>\n",
       "      <th></th>\n",
       "      <th></th>\n",
       "      <th></th>\n",
       "      <th></th>\n",
       "      <th></th>\n",
       "      <th></th>\n",
       "      <th></th>\n",
       "      <th></th>\n",
       "      <th></th>\n",
       "      <th></th>\n",
       "      <th></th>\n",
       "      <th></th>\n",
       "    </tr>\n",
       "  </thead>\n",
       "  <tbody>\n",
       "    <tr>\n",
       "      <th>1995-01-01</th>\n",
       "      <td>0.00</td>\n",
       "      <td>0.00</td>\n",
       "      <td>0.00</td>\n",
       "      <td>0.0</td>\n",
       "      <td>0.0</td>\n",
       "      <td>0.0</td>\n",
       "      <td>0.0</td>\n",
       "      <td>0.0</td>\n",
       "      <td>0.0</td>\n",
       "      <td>0.0</td>\n",
       "      <td>...</td>\n",
       "      <td>0.0</td>\n",
       "      <td>0.0</td>\n",
       "      <td>0.0</td>\n",
       "      <td>0.0</td>\n",
       "      <td>0.0</td>\n",
       "      <td>0.0</td>\n",
       "      <td>0.0</td>\n",
       "      <td>0.0</td>\n",
       "      <td>0.0</td>\n",
       "      <td>1.70</td>\n",
       "    </tr>\n",
       "    <tr>\n",
       "      <th>1995-02-01</th>\n",
       "      <td>1.70</td>\n",
       "      <td>0.00</td>\n",
       "      <td>0.00</td>\n",
       "      <td>0.0</td>\n",
       "      <td>0.0</td>\n",
       "      <td>0.0</td>\n",
       "      <td>0.0</td>\n",
       "      <td>0.0</td>\n",
       "      <td>0.0</td>\n",
       "      <td>0.0</td>\n",
       "      <td>...</td>\n",
       "      <td>0.0</td>\n",
       "      <td>0.0</td>\n",
       "      <td>0.0</td>\n",
       "      <td>0.0</td>\n",
       "      <td>0.0</td>\n",
       "      <td>0.0</td>\n",
       "      <td>0.0</td>\n",
       "      <td>0.0</td>\n",
       "      <td>0.0</td>\n",
       "      <td>1.02</td>\n",
       "    </tr>\n",
       "    <tr>\n",
       "      <th>1995-03-01</th>\n",
       "      <td>1.02</td>\n",
       "      <td>1.70</td>\n",
       "      <td>0.00</td>\n",
       "      <td>0.0</td>\n",
       "      <td>0.0</td>\n",
       "      <td>0.0</td>\n",
       "      <td>0.0</td>\n",
       "      <td>0.0</td>\n",
       "      <td>0.0</td>\n",
       "      <td>0.0</td>\n",
       "      <td>...</td>\n",
       "      <td>0.0</td>\n",
       "      <td>0.0</td>\n",
       "      <td>0.0</td>\n",
       "      <td>0.0</td>\n",
       "      <td>0.0</td>\n",
       "      <td>0.0</td>\n",
       "      <td>0.0</td>\n",
       "      <td>0.0</td>\n",
       "      <td>0.0</td>\n",
       "      <td>1.55</td>\n",
       "    </tr>\n",
       "    <tr>\n",
       "      <th>1995-04-01</th>\n",
       "      <td>1.55</td>\n",
       "      <td>1.02</td>\n",
       "      <td>1.70</td>\n",
       "      <td>0.0</td>\n",
       "      <td>0.0</td>\n",
       "      <td>0.0</td>\n",
       "      <td>0.0</td>\n",
       "      <td>0.0</td>\n",
       "      <td>0.0</td>\n",
       "      <td>0.0</td>\n",
       "      <td>...</td>\n",
       "      <td>0.0</td>\n",
       "      <td>0.0</td>\n",
       "      <td>0.0</td>\n",
       "      <td>0.0</td>\n",
       "      <td>0.0</td>\n",
       "      <td>0.0</td>\n",
       "      <td>0.0</td>\n",
       "      <td>0.0</td>\n",
       "      <td>0.0</td>\n",
       "      <td>2.43</td>\n",
       "    </tr>\n",
       "    <tr>\n",
       "      <th>1995-05-01</th>\n",
       "      <td>2.43</td>\n",
       "      <td>1.55</td>\n",
       "      <td>1.02</td>\n",
       "      <td>1.7</td>\n",
       "      <td>0.0</td>\n",
       "      <td>0.0</td>\n",
       "      <td>0.0</td>\n",
       "      <td>0.0</td>\n",
       "      <td>0.0</td>\n",
       "      <td>0.0</td>\n",
       "      <td>...</td>\n",
       "      <td>0.0</td>\n",
       "      <td>0.0</td>\n",
       "      <td>0.0</td>\n",
       "      <td>0.0</td>\n",
       "      <td>0.0</td>\n",
       "      <td>0.0</td>\n",
       "      <td>0.0</td>\n",
       "      <td>0.0</td>\n",
       "      <td>0.0</td>\n",
       "      <td>2.67</td>\n",
       "    </tr>\n",
       "  </tbody>\n",
       "</table>\n",
       "<p>5 rows × 61 columns</p>\n",
       "</div>"
      ],
      "text/plain": [
       "             T-1   T-2   T-3  T-4  T-5  T-6  T-7  T-8  T-9  T-10  ...  T-52  \\\n",
       "Date                                                              ...         \n",
       "1995-01-01  0.00  0.00  0.00  0.0  0.0  0.0  0.0  0.0  0.0   0.0  ...   0.0   \n",
       "1995-02-01  1.70  0.00  0.00  0.0  0.0  0.0  0.0  0.0  0.0   0.0  ...   0.0   \n",
       "1995-03-01  1.02  1.70  0.00  0.0  0.0  0.0  0.0  0.0  0.0   0.0  ...   0.0   \n",
       "1995-04-01  1.55  1.02  1.70  0.0  0.0  0.0  0.0  0.0  0.0   0.0  ...   0.0   \n",
       "1995-05-01  2.43  1.55  1.02  1.7  0.0  0.0  0.0  0.0  0.0   0.0  ...   0.0   \n",
       "\n",
       "            T-53  T-54  T-55  T-56  T-57  T-58  T-59  T-60  IPCA  \n",
       "Date                                                              \n",
       "1995-01-01   0.0   0.0   0.0   0.0   0.0   0.0   0.0   0.0  1.70  \n",
       "1995-02-01   0.0   0.0   0.0   0.0   0.0   0.0   0.0   0.0  1.02  \n",
       "1995-03-01   0.0   0.0   0.0   0.0   0.0   0.0   0.0   0.0  1.55  \n",
       "1995-04-01   0.0   0.0   0.0   0.0   0.0   0.0   0.0   0.0  2.43  \n",
       "1995-05-01   0.0   0.0   0.0   0.0   0.0   0.0   0.0   0.0  2.67  \n",
       "\n",
       "[5 rows x 61 columns]"
      ]
     },
     "execution_count": 9,
     "metadata": {},
     "output_type": "execute_result"
    }
   ],
   "source": [
    "# Adding lags to the data. We are considering up to 60 periods prior to the target\n",
    "col_names = [\"T-{}\".format(i) for i in range(1, 61)] + [\"IPCA\"]\n",
    "def time_steps(data, lag):\n",
    "\tdf_temp = data\n",
    "\tcolumns = [df_temp.shift(i) for i in range(1, lag+1)]\n",
    "\tcolumns.append(df_temp)\n",
    "\tdf_temp = pd.concat(columns, axis=1)\n",
    "\tdf_temp.fillna(0, inplace=True)\n",
    "\tdf_temp = df_temp.set_axis(col_names, axis=1, inplace=False)\n",
    "\treturn df_temp\n",
    "\n",
    "df_lags = time_steps(df, 60)\n",
    "df_lags.head()"
   ]
  },
  {
   "attachments": {},
   "cell_type": "markdown",
   "metadata": {},
   "source": [
    "Now we can separate the data into two sets: one for training the model and the other for testing it."
   ]
  },
  {
   "cell_type": "code",
   "execution_count": 10,
   "metadata": {},
   "outputs": [],
   "source": [
    "# Train and test data frames - with the last three years as test\n",
    "train = df_lags[df_lags.index <= '2019-08-01'].values\n",
    "test = df_lags[df_lags.index > '2019-08-01'].values"
   ]
  },
  {
   "cell_type": "code",
   "execution_count": 11,
   "metadata": {},
   "outputs": [],
   "source": [
    "# Scaling the data do match the possible outputs of the activation function.\n",
    "\"\"\"\n",
    "Since we are using a Hyperbolic Tangent, the data will be scaled to be \n",
    "between -1 and 1. The scale will be calculated on the training dataset to\n",
    "avoiding biasing de model\n",
    "\"\"\"\n",
    "\n",
    "# Set up the scaler\n",
    "scaler = MinMaxScaler(feature_range=(-1, 1))\n",
    "scaler = scaler.fit(train.reshape(-1,1))\n",
    "\n",
    "# Adjust the shape of the data\n",
    "train = train.reshape(train.shape[0], train.shape[1])\n",
    "test = test.reshape(test.shape[0], test.shape[1])\n",
    "\n",
    "# Transform the data\n",
    "train_scaled = scaler.transform(train.reshape(-1,1))\n",
    "test_scaled = scaler.transform(test.reshape(-1,1))\n"
   ]
  },
  {
   "cell_type": "code",
   "execution_count": 12,
   "metadata": {},
   "outputs": [],
   "source": [
    "train_scaled = np.reshape(\n",
    "    train_scaled,\n",
    "    (train.shape[0], train.shape[1], -1)\n",
    "    )\n",
    "test_scaled = np.reshape(\n",
    "    test_scaled,\n",
    "    (test.shape[0], test.shape[1], -1)\n",
    "    )"
   ]
  },
  {
   "cell_type": "code",
   "execution_count": 13,
   "metadata": {},
   "outputs": [
    {
     "name": "stdout",
     "output_type": "stream",
     "text": [
      "(296, 60, 1)\n",
      "(296, 1)\n"
     ]
    }
   ],
   "source": [
    "# Predictors and target for the training set\n",
    "train_x, train_y = train_scaled[:, 0:-1], train_scaled[:, -1]\n",
    "\n",
    "print(train_x.shape)\n",
    "print(train_y.shape)"
   ]
  },
  {
   "cell_type": "markdown",
   "metadata": {},
   "source": [
    "## The Model"
   ]
  },
  {
   "attachments": {},
   "cell_type": "markdown",
   "metadata": {},
   "source": [
    "After pre-processing, we are ready to build the model."
   ]
  },
  {
   "cell_type": "code",
   "execution_count": 14,
   "metadata": {},
   "outputs": [],
   "source": [
    "# The base model\n",
    "model = Sequential()\n",
    "model.compile(\n",
    "      optimizer=tf.keras.optimizers.Adam(learning_rate=0.001),\n",
    "      loss='mean_squared_error',\n",
    "      metrics=['mean_absolute_error'],\n",
    "      #run_eagerly=True\n",
    "      )\n",
    "\n",
    "# Number of patters to be processed before updating weights\n",
    "batch_size = 1\n",
    "\n",
    "# The LSTM input layer\n",
    "model.add(\n",
    "      LSTM(\n",
    "            360,\n",
    "            input_shape=(60, 1),\n",
    "            #return_sequences=True,\n",
    "            )\n",
    "      )\n",
    "\n",
    "# Hidden LSTM layers \n",
    "#for i in range(0, 60):\n",
    "#      model.add(LSTM(120,return_sequences=True))\n",
    "#model.add(LSTM(120))\n",
    "\n",
    "# The output layer\n",
    "model.add(Dense(1))"
   ]
  },
  {
   "cell_type": "code",
   "execution_count": 15,
   "metadata": {},
   "outputs": [],
   "source": [
    "# Training the model\n",
    "fit = model.fit(\n",
    "    train_x,\n",
    "    train_y,\n",
    "    validation_data=(train_x, train_y),\n",
    "    epochs=720, \n",
    "    batch_size=batch_size,\n",
    "    verbose=0,\n",
    "    shuffle=False,\n",
    "    )"
   ]
  },
  {
   "cell_type": "code",
   "execution_count": 16,
   "metadata": {},
   "outputs": [
    {
     "name": "stdout",
     "output_type": "stream",
     "text": [
      "Model: \"sequential\"\n",
      "_________________________________________________________________\n",
      "Layer (type)                 Output Shape              Param #   \n",
      "=================================================================\n",
      "lstm (LSTM)                  (None, 360)               521280    \n",
      "_________________________________________________________________\n",
      "dense (Dense)                (None, 1)                 361       \n",
      "=================================================================\n",
      "Total params: 521,641\n",
      "Trainable params: 521,641\n",
      "Non-trainable params: 0\n",
      "_________________________________________________________________\n"
     ]
    }
   ],
   "source": [
    "model.summary()"
   ]
  },
  {
   "cell_type": "code",
   "execution_count": 17,
   "metadata": {},
   "outputs": [
    {
     "data": {
      "text/plain": [
       "<function matplotlib.pyplot.show(close=None, block=None)>"
      ]
     },
     "execution_count": 17,
     "metadata": {},
     "output_type": "execute_result"
    },
    {
     "data": {
      "image/png": "[encoded data removed]",
      "text/plain": [
       "<Figure size 432x288 with 1 Axes>"
      ]
     },
     "metadata": {
      "needs_background": "light"
     },
     "output_type": "display_data"
    }
   ],
   "source": [
    "# Check for overfitting\n",
    "plt.plot(fit.history['loss'], label='training', color='Blue')\n",
    "plt.plot(fit.history['val_loss'], label='validation',color='Red')\n",
    "plt.legend()\n",
    "plt.show"
   ]
  },
  {
   "cell_type": "markdown",
   "metadata": {},
   "source": [
    "## Performance"
   ]
  },
  {
   "cell_type": "code",
   "execution_count": 18,
   "metadata": {},
   "outputs": [],
   "source": [
    "# Predictors and target for the testing set\n",
    "test_x, test_y = test_scaled[:, 0:-1], test_scaled[:, -1]"
   ]
  },
  {
   "cell_type": "code",
   "execution_count": 19,
   "metadata": {},
   "outputs": [],
   "source": [
    "# Build up state for forecasting\n",
    "train_pred = model.predict(train_x)"
   ]
  },
  {
   "cell_type": "code",
   "execution_count": 20,
   "metadata": {},
   "outputs": [
    {
     "data": {
      "text/plain": [
       "array([[-0.73371105],\n",
       "       [-0.64872521],\n",
       "       [-0.60339943],\n",
       "       [-0.70538244],\n",
       "       [-0.63739377],\n",
       "       [-0.38810198],\n",
       "       [-0.28611898],\n",
       "       [-0.4674221 ],\n",
       "       [-0.52974504],\n",
       "       [-0.62606232],\n",
       "       [-0.83002833],\n",
       "       [-0.45609065],\n",
       "       [-0.43909348],\n",
       "       [-0.76203966],\n",
       "       [-0.52407932],\n",
       "       [ 0.00283286],\n",
       "       [-0.48441926],\n",
       "       [-0.58640227],\n",
       "       [-0.66005666],\n",
       "       [-0.52974504],\n",
       "       [-0.54674221],\n",
       "       [-0.46175637],\n",
       "       [-0.55240793],\n",
       "       [-0.47308782],\n",
       "       [-0.6203966 ],\n",
       "       [-0.60339943],\n",
       "       [-0.57507082],\n",
       "       [-0.84135977],\n",
       "       [-0.53541076],\n",
       "       [-0.63172805],\n",
       "       [-0.5694051 ],\n",
       "       [-0.52407932],\n",
       "       [-0.49575071],\n",
       "       [-0.54107649],\n",
       "       [-0.60906516],\n",
       "       [-0.56373938],\n",
       "       [-0.66572238],\n",
       "       [-0.46175637],\n",
       "       [-0.41643059],\n",
       "       [-0.51274788],\n",
       "       [-0.26912181],\n",
       "       [-0.36543909],\n",
       "       [-0.4674221 ],\n",
       "       [-0.20113314],\n",
       "       [ 0.00849858],\n",
       "       [-0.16713881],\n",
       "       [-0.1388102 ],\n",
       "       [-0.24645892],\n",
       "       [-0.40509915],\n",
       "       [-0.58640227],\n",
       "       [-0.35977337],\n",
       "       [-0.26345609],\n",
       "       [-0.2917847 ],\n",
       "       [-0.30878187],\n",
       "       [ 0.0368272 ],\n",
       "       [-0.01983003],\n",
       "       [-0.00849858],\n",
       "       [-0.26912181],\n",
       "       [-0.42209632],\n",
       "       [-0.47308782]])"
      ]
     },
     "execution_count": 20,
     "metadata": {},
     "output_type": "execute_result"
    }
   ],
   "source": [
    "test_x[1]"
   ]
  },
  {
   "cell_type": "code",
   "execution_count": 21,
   "metadata": {},
   "outputs": [],
   "source": [
    "# Walk-forward validation - one-step window \n",
    "predictions = list()\n",
    "for i in range(0, test_scaled.shape[0]):\n",
    "\ty_hat = model.predict(test_x[i].reshape((1,60,1)))\n",
    "\tpredictions.extend(y_hat[0])\n",
    "\n",
    "test_pred = np.array(predictions)"
   ]
  },
  {
   "cell_type": "code",
   "execution_count": 22,
   "metadata": {},
   "outputs": [],
   "source": [
    "# Convert the predictions back to the original scale\n",
    "y_test_hat = scaler.inverse_transform(np.array(predictions).reshape(-1,1))\n",
    "y_test = scaler.inverse_transform(test_y.reshape(-1,1))\n",
    "y_train_hat = scaler.inverse_transform(train_pred.reshape(-1,1))\n",
    "y_train = scaler.inverse_transform(train_y.reshape(-1,1))"
   ]
  },
  {
   "cell_type": "code",
   "execution_count": 23,
   "metadata": {},
   "outputs": [
    {
     "data": {
      "text/plain": [
       "array([[ 0.07728643],\n",
       "       [-0.02353588],\n",
       "       [ 0.1312501 ],\n",
       "       [ 0.28534722],\n",
       "       [ 0.6047466 ],\n",
       "       [-0.5787726 ],\n",
       "       [-0.03170852],\n",
       "       [-0.0066968 ],\n",
       "       [-0.17141336],\n",
       "       [-0.12119761],\n",
       "       [ 0.30848846],\n",
       "       [ 0.17251936],\n",
       "       [ 0.0939109 ],\n",
       "       [ 0.72050744],\n",
       "       [ 0.65432996],\n",
       "       [ 0.68684614],\n",
       "       [ 1.5724452 ],\n",
       "       [-0.7790298 ],\n",
       "       [ 0.89023036],\n",
       "       [ 0.9201323 ],\n",
       "       [-0.29662997],\n",
       "       [ 0.75959593],\n",
       "       [ 0.7071178 ],\n",
       "       [ 0.69912237],\n",
       "       [ 0.8244861 ],\n",
       "       [ 1.5997105 ],\n",
       "       [ 1.8456874 ],\n",
       "       [ 1.1043459 ],\n",
       "       [ 0.82287633],\n",
       "       [ 0.67386156],\n",
       "       [ 0.8150118 ],\n",
       "       [ 0.8934234 ],\n",
       "       [ 0.67041945],\n",
       "       [ 0.4051796 ],\n",
       "       [ 0.6063572 ],\n",
       "       [-0.5217351 ]], dtype=float32)"
      ]
     },
     "execution_count": 23,
     "metadata": {},
     "output_type": "execute_result"
    }
   ],
   "source": [
    "y_test_hat"
   ]
  },
  {
   "cell_type": "code",
   "execution_count": 24,
   "metadata": {},
   "outputs": [
    {
     "name": "stdout",
     "output_type": "stream",
     "text": [
      "Train Score: 0.17 MSE\n",
      "Test Score: 0.36 MSE\n",
      "Mean Model Error:  0.08626344288751071\n"
     ]
    },
    {
     "data": {
      "application/vnd.plotly.v1+json": {
       "config": {
        "linkText": "Export to plot.ly",
        "plotlyServerURL": "https://plot.ly",
        "showLink": false
       },
       "data": [
        {
         "marker": {
          "color": "SteelBlue"
         },
         "name": "Actual",
         "type": "scatter",
         "x": [
          "2019-09-01T00:00:00",
          "2019-10-01T00:00:00",
          "2019-11-01T00:00:00",
          "2019-12-01T00:00:00",
          "2020-01-01T00:00:00",
          "2020-02-01T00:00:00",
          "2020-03-01T00:00:00",
          "2020-04-01T00:00:00",
          "2020-05-01T00:00:00",
          "2020-06-01T00:00:00",
          "2020-07-01T00:00:00",
          "2020-08-01T00:00:00",
          "2020-09-01T00:00:00",
          "2020-10-01T00:00:00",
          "2020-11-01T00:00:00",
          "2020-12-01T00:00:00",
          "2021-01-01T00:00:00",
          "2021-02-01T00:00:00",
          "2021-03-01T00:00:00",
          "2021-04-01T00:00:00",
          "2021-05-01T00:00:00",
          "2021-06-01T00:00:00",
          "2021-07-01T00:00:00",
          "2021-08-01T00:00:00",
          "2021-09-01T00:00:00",
          "2021-10-01T00:00:00",
          "2021-11-01T00:00:00",
          "2021-12-01T00:00:00",
          "2022-01-01T00:00:00",
          "2022-02-01T00:00:00",
          "2022-03-01T00:00:00",
          "2022-04-01T00:00:00",
          "2022-05-01T00:00:00",
          "2022-06-01T00:00:00",
          "2022-07-01T00:00:00",
          "2022-08-01T00:00:00"
         ],
         "y": [
          -0.04,
          0.1,
          0.51,
          1.15,
          0.21,
          0.25,
          0.07,
          -0.31,
          -0.38,
          0.26,
          0.36,
          0.24,
          0.64,
          0.86,
          0.89,
          1.35,
          0.25,
          0.86,
          0.93,
          0.31,
          0.83,
          0.53,
          0.96,
          0.87,
          1.16,
          1.25,
          0.95,
          0.73,
          0.54,
          1.01,
          1.62,
          1.06,
          0.47,
          0.67,
          -0.68,
          -0.36
         ]
        },
        {
         "marker": {
          "color": "Firebrick"
         },
         "name": "Predicted",
         "type": "scatter",
         "x": [
          "2019-09-01T00:00:00",
          "2019-10-01T00:00:00",
          "2019-11-01T00:00:00",
          "2019-12-01T00:00:00",
          "2020-01-01T00:00:00",
          "2020-02-01T00:00:00",
          "2020-03-01T00:00:00",
          "2020-04-01T00:00:00",
          "2020-05-01T00:00:00",
          "2020-06-01T00:00:00",
          "2020-07-01T00:00:00",
          "2020-08-01T00:00:00",
          "2020-09-01T00:00:00",
          "2020-10-01T00:00:00",
          "2020-11-01T00:00:00",
          "2020-12-01T00:00:00",
          "2021-01-01T00:00:00",
          "2021-02-01T00:00:00",
          "2021-03-01T00:00:00",
          "2021-04-01T00:00:00",
          "2021-05-01T00:00:00",
          "2021-06-01T00:00:00",
          "2021-07-01T00:00:00",
          "2021-08-01T00:00:00",
          "2021-09-01T00:00:00",
          "2021-10-01T00:00:00",
          "2021-11-01T00:00:00",
          "2021-12-01T00:00:00",
          "2022-01-01T00:00:00",
          "2022-02-01T00:00:00",
          "2022-03-01T00:00:00",
          "2022-04-01T00:00:00",
          "2022-05-01T00:00:00",
          "2022-06-01T00:00:00",
          "2022-07-01T00:00:00",
          "2022-08-01T00:00:00"
         ],
         "xaxis": "x",
         "y": [
          0.07728642970323563,
          -0.02353588305413723,
          0.13125009834766388,
          0.28534722328186035,
          0.6047465801239014,
          -0.5787726044654846,
          -0.03170851618051529,
          -0.006696799304336309,
          -0.1714133620262146,
          -0.12119761109352112,
          0.3084884583950043,
          0.17251935601234436,
          0.09391090273857117,
          0.7205074429512024,
          0.6543299555778503,
          0.686846137046814,
          1.5724451541900635,
          -0.7790297865867615,
          0.8902303576469421,
          0.9201322793960571,
          -0.29662996530532837,
          0.7595959305763245,
          0.7071177959442139,
          0.6991223692893982,
          0.8244860768318176,
          1.599710464477539,
          1.8456873893737793,
          1.1043459177017212,
          0.8228763341903687,
          0.673861563205719,
          0.8150117993354797,
          0.8934233784675598,
          0.670419454574585,
          0.40517958998680115,
          0.606357216835022,
          -0.5217350721359253
         ],
         "yaxis": "y"
        }
       ],
       "layout": {
        "height": 600,
        "showlegend": true,
        "template": {
         "data": {
          "bar": [
           {
            "error_x": {
             "color": "#2a3f5f"
            },
            "error_y": {
             "color": "#2a3f5f"
            },
            "marker": {
             "line": {
              "color": "#E5ECF6",
              "width": 0.5
             },
             "pattern": {
              "fillmode": "overlay",
              "size": 10,
              "solidity": 0.2
             }
            },
            "type": "bar"
           }
          ],
          "barpolar": [
           {
            "marker": {
             "line": {
              "color": "#E5ECF6",
              "width": 0.5
             },
             "pattern": {
              "fillmode": "overlay",
              "size": 10,
              "solidity": 0.2
             }
            },
            "type": "barpolar"
           }
          ],
          "carpet": [
           {
            "aaxis": {
             "endlinecolor": "#2a3f5f",
             "gridcolor": "white",
             "linecolor": "white",
             "minorgridcolor": "white",
             "startlinecolor": "#2a3f5f"
            },
            "baxis": {
             "endlinecolor": "#2a3f5f",
             "gridcolor": "white",
             "linecolor": "white",
             "minorgridcolor": "white",
             "startlinecolor": "#2a3f5f"
            },
            "type": "carpet"
           }
          ],
          "choropleth": [
           {
            "colorbar": {
             "outlinewidth": 0,
             "ticks": ""
            },
            "type": "choropleth"
           }
          ],
          "contour": [
           {
            "colorbar": {
             "outlinewidth": 0,
             "ticks": ""
            },
            "colorscale": [
             [
              0,
              "#0d0887"
             ],
             [
              0.1111111111111111,
              "#46039f"
             ],
             [
              0.2222222222222222,
              "#7201a8"
             ],
             [
              0.3333333333333333,
              "#9c179e"
             ],
             [
              0.4444444444444444,
              "#bd3786"
             ],
             [
              0.5555555555555556,
              "#d8576b"
             ],
             [
              0.6666666666666666,
              "#ed7953"
             ],
             [
              0.7777777777777778,
              "#fb9f3a"
             ],
             [
              0.8888888888888888,
              "#fdca26"
             ],
             [
              1,
              "#f0f921"
             ]
            ],
            "type": "contour"
           }
          ],
          "contourcarpet": [
           {
            "colorbar": {
             "outlinewidth": 0,
             "ticks": ""
            },
            "type": "contourcarpet"
           }
          ],
          "heatmap": [
           {
            "colorbar": {
             "outlinewidth": 0,
             "ticks": ""
            },
            "colorscale": [
             [
              0,
              "#0d0887"
             ],
             [
              0.1111111111111111,
              "#46039f"
             ],
             [
              0.2222222222222222,
              "#7201a8"
             ],
             [
              0.3333333333333333,
              "#9c179e"
             ],
             [
              0.4444444444444444,
              "#bd3786"
             ],
             [
              0.5555555555555556,
              "#d8576b"
             ],
             [
              0.6666666666666666,
              "#ed7953"
             ],
             [
              0.7777777777777778,
              "#fb9f3a"
             ],
             [
              0.8888888888888888,
              "#fdca26"
             ],
             [
              1,
              "#f0f921"
             ]
            ],
            "type": "heatmap"
           }
          ],
          "heatmapgl": [
           {
            "colorbar": {
             "outlinewidth": 0,
             "ticks": ""
            },
            "colorscale": [
             [
              0,
              "#0d0887"
             ],
             [
              0.1111111111111111,
              "#46039f"
             ],
             [
              0.2222222222222222,
              "#7201a8"
             ],
             [
              0.3333333333333333,
              "#9c179e"
             ],
             [
              0.4444444444444444,
              "#bd3786"
             ],
             [
              0.5555555555555556,
              "#d8576b"
             ],
             [
              0.6666666666666666,
              "#ed7953"
             ],
             [
              0.7777777777777778,
              "#fb9f3a"
             ],
             [
              0.8888888888888888,
              "#fdca26"
             ],
             [
              1,
              "#f0f921"
             ]
            ],
            "type": "heatmapgl"
           }
          ],
          "histogram": [
           {
            "marker": {
             "pattern": {
              "fillmode": "overlay",
              "size": 10,
              "solidity": 0.2
             }
            },
            "type": "histogram"
           }
          ],
          "histogram2d": [
           {
            "colorbar": {
             "outlinewidth": 0,
             "ticks": ""
            },
            "colorscale": [
             [
              0,
              "#0d0887"
             ],
             [
              0.1111111111111111,
              "#46039f"
             ],
             [
              0.2222222222222222,
              "#7201a8"
             ],
             [
              0.3333333333333333,
              "#9c179e"
             ],
             [
              0.4444444444444444,
              "#bd3786"
             ],
             [
              0.5555555555555556,
              "#d8576b"
             ],
             [
              0.6666666666666666,
              "#ed7953"
             ],
             [
              0.7777777777777778,
              "#fb9f3a"
             ],
             [
              0.8888888888888888,
              "#fdca26"
             ],
             [
              1,
              "#f0f921"
             ]
            ],
            "type": "histogram2d"
           }
          ],
          "histogram2dcontour": [
           {
            "colorbar": {
             "outlinewidth": 0,
             "ticks": ""
            },
            "colorscale": [
             [
              0,
              "#0d0887"
             ],
             [
              0.1111111111111111,
              "#46039f"
             ],
             [
              0.2222222222222222,
              "#7201a8"
             ],
             [
              0.3333333333333333,
              "#9c179e"
             ],
             [
              0.4444444444444444,
              "#bd3786"
             ],
             [
              0.5555555555555556,
              "#d8576b"
             ],
             [
              0.6666666666666666,
              "#ed7953"
             ],
             [
              0.7777777777777778,
              "#fb9f3a"
             ],
             [
              0.8888888888888888,
              "#fdca26"
             ],
             [
              1,
              "#f0f921"
             ]
            ],
            "type": "histogram2dcontour"
           }
          ],
          "mesh3d": [
           {
            "colorbar": {
             "outlinewidth": 0,
             "ticks": ""
            },
            "type": "mesh3d"
           }
          ],
          "parcoords": [
           {
            "line": {
             "colorbar": {
              "outlinewidth": 0,
              "ticks": ""
             }
            },
            "type": "parcoords"
           }
          ],
          "pie": [
           {
            "automargin": true,
            "type": "pie"
           }
          ],
          "scatter": [
           {
            "fillpattern": {
             "fillmode": "overlay",
             "size": 10,
             "solidity": 0.2
            },
            "type": "scatter"
           }
          ],
          "scatter3d": [
           {
            "line": {
             "colorbar": {
              "outlinewidth": 0,
              "ticks": ""
             }
            },
            "marker": {
             "colorbar": {
              "outlinewidth": 0,
              "ticks": ""
             }
            },
            "type": "scatter3d"
           }
          ],
          "scattercarpet": [
           {
            "marker": {
             "colorbar": {
              "outlinewidth": 0,
              "ticks": ""
             }
            },
            "type": "scattercarpet"
           }
          ],
          "scattergeo": [
           {
            "marker": {
             "colorbar": {
              "outlinewidth": 0,
              "ticks": ""
             }
            },
            "type": "scattergeo"
           }
          ],
          "scattergl": [
           {
            "marker": {
             "colorbar": {
              "outlinewidth": 0,
              "ticks": ""
             }
            },
            "type": "scattergl"
           }
          ],
          "scattermapbox": [
           {
            "marker": {
             "colorbar": {
              "outlinewidth": 0,
              "ticks": ""
             }
            },
            "type": "scattermapbox"
           }
          ],
          "scatterpolar": [
           {
            "marker": {
             "colorbar": {
              "outlinewidth": 0,
              "ticks": ""
             }
            },
            "type": "scatterpolar"
           }
          ],
          "scatterpolargl": [
           {
            "marker": {
             "colorbar": {
              "outlinewidth": 0,
              "ticks": ""
             }
            },
            "type": "scatterpolargl"
           }
          ],
          "scatterternary": [
           {
            "marker": {
             "colorbar": {
              "outlinewidth": 0,
              "ticks": ""
             }
            },
            "type": "scatterternary"
           }
          ],
          "surface": [
           {
            "colorbar": {
             "outlinewidth": 0,
             "ticks": ""
            },
            "colorscale": [
             [
              0,
              "#0d0887"
             ],
             [
              0.1111111111111111,
              "#46039f"
             ],
             [
              0.2222222222222222,
              "#7201a8"
             ],
             [
              0.3333333333333333,
              "#9c179e"
             ],
             [
              0.4444444444444444,
              "#bd3786"
             ],
             [
              0.5555555555555556,
              "#d8576b"
             ],
             [
              0.6666666666666666,
              "#ed7953"
             ],
             [
              0.7777777777777778,
              "#fb9f3a"
             ],
             [
              0.8888888888888888,
              "#fdca26"
             ],
             [
              1,
              "#f0f921"
             ]
            ],
            "type": "surface"
           }
          ],
          "table": [
           {
            "cells": {
             "fill": {
              "color": "#EBF0F8"
             },
             "line": {
              "color": "white"
             }
            },
            "header": {
             "fill": {
              "color": "#C8D4E3"
             },
             "line": {
              "color": "white"
             }
            },
            "type": "table"
           }
          ]
         },
         "layout": {
          "annotationdefaults": {
           "arrowcolor": "#2a3f5f",
           "arrowhead": 0,
           "arrowwidth": 1
          },
          "autotypenumbers": "strict",
          "coloraxis": {
           "colorbar": {
            "outlinewidth": 0,
            "ticks": ""
           }
          },
          "colorscale": {
           "diverging": [
            [
             0,
             "#8e0152"
            ],
            [
             0.1,
             "#c51b7d"
            ],
            [
             0.2,
             "#de77ae"
            ],
            [
             0.3,
             "#f1b6da"
            ],
            [
             0.4,
             "#fde0ef"
            ],
            [
             0.5,
             "#f7f7f7"
            ],
            [
             0.6,
             "#e6f5d0"
            ],
            [
             0.7,
             "#b8e186"
            ],
            [
             0.8,
             "#7fbc41"
            ],
            [
             0.9,
             "#4d9221"
            ],
            [
             1,
             "#276419"
            ]
           ],
           "sequential": [
            [
             0,
             "#0d0887"
            ],
            [
             0.1111111111111111,
             "#46039f"
            ],
            [
             0.2222222222222222,
             "#7201a8"
            ],
            [
             0.3333333333333333,
             "#9c179e"
            ],
            [
             0.4444444444444444,
             "#bd3786"
            ],
            [
             0.5555555555555556,
             "#d8576b"
            ],
            [
             0.6666666666666666,
             "#ed7953"
            ],
            [
             0.7777777777777778,
             "#fb9f3a"
            ],
            [
             0.8888888888888888,
             "#fdca26"
            ],
            [
             1,
             "#f0f921"
            ]
           ],
           "sequentialminus": [
            [
             0,
             "#0d0887"
            ],
            [
             0.1111111111111111,
             "#46039f"
            ],
            [
             0.2222222222222222,
             "#7201a8"
            ],
            [
             0.3333333333333333,
             "#9c179e"
            ],
            [
             0.4444444444444444,
             "#bd3786"
            ],
            [
             0.5555555555555556,
             "#d8576b"
            ],
            [
             0.6666666666666666,
             "#ed7953"
            ],
            [
             0.7777777777777778,
             "#fb9f3a"
            ],
            [
             0.8888888888888888,
             "#fdca26"
            ],
            [
             1,
             "#f0f921"
            ]
           ]
          },
          "colorway": [
           "#636efa",
           "#EF553B",
           "#00cc96",
           "#ab63fa",
           "#FFA15A",
           "#19d3f3",
           "#FF6692",
           "#B6E880",
           "#FF97FF",
           "#FECB52"
          ],
          "font": {
           "color": "#2a3f5f"
          },
          "geo": {
           "bgcolor": "white",
           "lakecolor": "white",
           "landcolor": "#E5ECF6",
           "showlakes": true,
           "showland": true,
           "subunitcolor": "white"
          },
          "hoverlabel": {
           "align": "left"
          },
          "hovermode": "closest",
          "mapbox": {
           "style": "light"
          },
          "paper_bgcolor": "white",
          "plot_bgcolor": "#E5ECF6",
          "polar": {
           "angularaxis": {
            "gridcolor": "white",
            "linecolor": "white",
            "ticks": ""
           },
           "bgcolor": "#E5ECF6",
           "radialaxis": {
            "gridcolor": "white",
            "linecolor": "white",
            "ticks": ""
           }
          },
          "scene": {
           "xaxis": {
            "backgroundcolor": "#E5ECF6",
            "gridcolor": "white",
            "gridwidth": 2,
            "linecolor": "white",
            "showbackground": true,
            "ticks": "",
            "zerolinecolor": "white"
           },
           "yaxis": {
            "backgroundcolor": "#E5ECF6",
            "gridcolor": "white",
            "gridwidth": 2,
            "linecolor": "white",
            "showbackground": true,
            "ticks": "",
            "zerolinecolor": "white"
           },
           "zaxis": {
            "backgroundcolor": "#E5ECF6",
            "gridcolor": "white",
            "gridwidth": 2,
            "linecolor": "white",
            "showbackground": true,
            "ticks": "",
            "zerolinecolor": "white"
           }
          },
          "shapedefaults": {
           "line": {
            "color": "#2a3f5f"
           }
          },
          "ternary": {
           "aaxis": {
            "gridcolor": "white",
            "linecolor": "white",
            "ticks": ""
           },
           "baxis": {
            "gridcolor": "white",
            "linecolor": "white",
            "ticks": ""
           },
           "bgcolor": "#E5ECF6",
           "caxis": {
            "gridcolor": "white",
            "linecolor": "white",
            "ticks": ""
           }
          },
          "title": {
           "x": 0.05
          },
          "xaxis": {
           "automargin": true,
           "gridcolor": "white",
           "linecolor": "white",
           "ticks": "",
           "title": {
            "standoff": 15
           },
           "zerolinecolor": "white",
           "zerolinewidth": 2
          },
          "yaxis": {
           "automargin": true,
           "gridcolor": "white",
           "linecolor": "white",
           "ticks": "",
           "title": {
            "standoff": 15
           },
           "zerolinecolor": "white",
           "zerolinewidth": 2
          }
         }
        },
        "title": {
         "text": "Actual vs Predicted"
        },
        "width": 800,
        "xaxis": {
         "anchor": "y",
         "domain": [
          0,
          1
         ],
         "tickangle": -90
        },
        "yaxis": {
         "anchor": "x",
         "domain": [
          0,
          1
         ]
        }
       }
      },
      "text/html": [
       "<div>                            <div id=\"b92c13e0-e5a2-4003-966c-2e5755a59b5c\" class=\"plotly-graph-div\" style=\"height:600px; width:800px;\"></div>            <script type=\"text/javascript\">                require([\"plotly\"], function(Plotly) {                    window.PLOTLYENV=window.PLOTLYENV || {};                                    if (document.getElementById(\"b92c13e0-e5a2-4003-966c-2e5755a59b5c\")) {                    Plotly.newPlot(                        \"b92c13e0-e5a2-4003-966c-2e5755a59b5c\",                        [{\"marker\":{\"color\":\"SteelBlue\"},\"name\":\"Actual\",\"x\":[\"2019-09-01T00:00:00\",\"2019-10-01T00:00:00\",\"2019-11-01T00:00:00\",\"2019-12-01T00:00:00\",\"2020-01-01T00:00:00\",\"2020-02-01T00:00:00\",\"2020-03-01T00:00:00\",\"2020-04-01T00:00:00\",\"2020-05-01T00:00:00\",\"2020-06-01T00:00:00\",\"2020-07-01T00:00:00\",\"2020-08-01T00:00:00\",\"2020-09-01T00:00:00\",\"2020-10-01T00:00:00\",\"2020-11-01T00:00:00\",\"2020-12-01T00:00:00\",\"2021-01-01T00:00:00\",\"2021-02-01T00:00:00\",\"2021-03-01T00:00:00\",\"2021-04-01T00:00:00\",\"2021-05-01T00:00:00\",\"2021-06-01T00:00:00\",\"2021-07-01T00:00:00\",\"2021-08-01T00:00:00\",\"2021-09-01T00:00:00\",\"2021-10-01T00:00:00\",\"2021-11-01T00:00:00\",\"2021-12-01T00:00:00\",\"2022-01-01T00:00:00\",\"2022-02-01T00:00:00\",\"2022-03-01T00:00:00\",\"2022-04-01T00:00:00\",\"2022-05-01T00:00:00\",\"2022-06-01T00:00:00\",\"2022-07-01T00:00:00\",\"2022-08-01T00:00:00\"],\"y\":[-0.04,0.1,0.51,1.15,0.21,0.25,0.07,-0.31,-0.38,0.26,0.36,0.24,0.64,0.86,0.89,1.35,0.25,0.86,0.93,0.31,0.83,0.53,0.96,0.87,1.16,1.25,0.95,0.73,0.54,1.01,1.62,1.06,0.47,0.67,-0.68,-0.36],\"type\":\"scatter\"},{\"marker\":{\"color\":\"Firebrick\"},\"name\":\"Predicted\",\"x\":[\"2019-09-01T00:00:00\",\"2019-10-01T00:00:00\",\"2019-11-01T00:00:00\",\"2019-12-01T00:00:00\",\"2020-01-01T00:00:00\",\"2020-02-01T00:00:00\",\"2020-03-01T00:00:00\",\"2020-04-01T00:00:00\",\"2020-05-01T00:00:00\",\"2020-06-01T00:00:00\",\"2020-07-01T00:00:00\",\"2020-08-01T00:00:00\",\"2020-09-01T00:00:00\",\"2020-10-01T00:00:00\",\"2020-11-01T00:00:00\",\"2020-12-01T00:00:00\",\"2021-01-01T00:00:00\",\"2021-02-01T00:00:00\",\"2021-03-01T00:00:00\",\"2021-04-01T00:00:00\",\"2021-05-01T00:00:00\",\"2021-06-01T00:00:00\",\"2021-07-01T00:00:00\",\"2021-08-01T00:00:00\",\"2021-09-01T00:00:00\",\"2021-10-01T00:00:00\",\"2021-11-01T00:00:00\",\"2021-12-01T00:00:00\",\"2022-01-01T00:00:00\",\"2022-02-01T00:00:00\",\"2022-03-01T00:00:00\",\"2022-04-01T00:00:00\",\"2022-05-01T00:00:00\",\"2022-06-01T00:00:00\",\"2022-07-01T00:00:00\",\"2022-08-01T00:00:00\"],\"xaxis\":\"x\",\"y\":[0.07728642970323563,-0.02353588305413723,0.13125009834766388,0.28534722328186035,0.6047465801239014,-0.5787726044654846,-0.03170851618051529,-0.006696799304336309,-0.1714133620262146,-0.12119761109352112,0.3084884583950043,0.17251935601234436,0.09391090273857117,0.7205074429512024,0.6543299555778503,0.686846137046814,1.5724451541900635,-0.7790297865867615,0.8902303576469421,0.9201322793960571,-0.29662996530532837,0.7595959305763245,0.7071177959442139,0.6991223692893982,0.8244860768318176,1.599710464477539,1.8456873893737793,1.1043459177017212,0.8228763341903687,0.673861563205719,0.8150117993354797,0.8934233784675598,0.670419454574585,0.40517958998680115,0.606357216835022,-0.5217350721359253],\"yaxis\":\"y\",\"type\":\"scatter\"}],                        {\"height\":600,\"showlegend\":true,\"template\":{\"data\":{\"barpolar\":[{\"marker\":{\"line\":{\"color\":\"#E5ECF6\",\"width\":0.5},\"pattern\":{\"fillmode\":\"overlay\",\"size\":10,\"solidity\":0.2}},\"type\":\"barpolar\"}],\"bar\":[{\"error_x\":{\"color\":\"#2a3f5f\"},\"error_y\":{\"color\":\"#2a3f5f\"},\"marker\":{\"line\":{\"color\":\"#E5ECF6\",\"width\":0.5},\"pattern\":{\"fillmode\":\"overlay\",\"size\":10,\"solidity\":0.2}},\"type\":\"bar\"}],\"carpet\":[{\"aaxis\":{\"endlinecolor\":\"#2a3f5f\",\"gridcolor\":\"white\",\"linecolor\":\"white\",\"minorgridcolor\":\"white\",\"startlinecolor\":\"#2a3f5f\"},\"baxis\":{\"endlinecolor\":\"#2a3f5f\",\"gridcolor\":\"white\",\"linecolor\":\"white\",\"minorgridcolor\":\"white\",\"startlinecolor\":\"#2a3f5f\"},\"type\":\"carpet\"}],\"choropleth\":[{\"colorbar\":{\"outlinewidth\":0,\"ticks\":\"\"},\"type\":\"choropleth\"}],\"contourcarpet\":[{\"colorbar\":{\"outlinewidth\":0,\"ticks\":\"\"},\"type\":\"contourcarpet\"}],\"contour\":[{\"colorbar\":{\"outlinewidth\":0,\"ticks\":\"\"},\"colorscale\":[[0.0,\"#0d0887\"],[0.1111111111111111,\"#46039f\"],[0.2222222222222222,\"#7201a8\"],[0.3333333333333333,\"#9c179e\"],[0.4444444444444444,\"#bd3786\"],[0.5555555555555556,\"#d8576b\"],[0.6666666666666666,\"#ed7953\"],[0.7777777777777778,\"#fb9f3a\"],[0.8888888888888888,\"#fdca26\"],[1.0,\"#f0f921\"]],\"type\":\"contour\"}],\"heatmapgl\":[{\"colorbar\":{\"outlinewidth\":0,\"ticks\":\"\"},\"colorscale\":[[0.0,\"#0d0887\"],[0.1111111111111111,\"#46039f\"],[0.2222222222222222,\"#7201a8\"],[0.3333333333333333,\"#9c179e\"],[0.4444444444444444,\"#bd3786\"],[0.5555555555555556,\"#d8576b\"],[0.6666666666666666,\"#ed7953\"],[0.7777777777777778,\"#fb9f3a\"],[0.8888888888888888,\"#fdca26\"],[1.0,\"#f0f921\"]],\"type\":\"heatmapgl\"}],\"heatmap\":[{\"colorbar\":{\"outlinewidth\":0,\"ticks\":\"\"},\"colorscale\":[[0.0,\"#0d0887\"],[0.1111111111111111,\"#46039f\"],[0.2222222222222222,\"#7201a8\"],[0.3333333333333333,\"#9c179e\"],[0.4444444444444444,\"#bd3786\"],[0.5555555555555556,\"#d8576b\"],[0.6666666666666666,\"#ed7953\"],[0.7777777777777778,\"#fb9f3a\"],[0.8888888888888888,\"#fdca26\"],[1.0,\"#f0f921\"]],\"type\":\"heatmap\"}],\"histogram2dcontour\":[{\"colorbar\":{\"outlinewidth\":0,\"ticks\":\"\"},\"colorscale\":[[0.0,\"#0d0887\"],[0.1111111111111111,\"#46039f\"],[0.2222222222222222,\"#7201a8\"],[0.3333333333333333,\"#9c179e\"],[0.4444444444444444,\"#bd3786\"],[0.5555555555555556,\"#d8576b\"],[0.6666666666666666,\"#ed7953\"],[0.7777777777777778,\"#fb9f3a\"],[0.8888888888888888,\"#fdca26\"],[1.0,\"#f0f921\"]],\"type\":\"histogram2dcontour\"}],\"histogram2d\":[{\"colorbar\":{\"outlinewidth\":0,\"ticks\":\"\"},\"colorscale\":[[0.0,\"#0d0887\"],[0.1111111111111111,\"#46039f\"],[0.2222222222222222,\"#7201a8\"],[0.3333333333333333,\"#9c179e\"],[0.4444444444444444,\"#bd3786\"],[0.5555555555555556,\"#d8576b\"],[0.6666666666666666,\"#ed7953\"],[0.7777777777777778,\"#fb9f3a\"],[0.8888888888888888,\"#fdca26\"],[1.0,\"#f0f921\"]],\"type\":\"histogram2d\"}],\"histogram\":[{\"marker\":{\"pattern\":{\"fillmode\":\"overlay\",\"size\":10,\"solidity\":0.2}},\"type\":\"histogram\"}],\"mesh3d\":[{\"colorbar\":{\"outlinewidth\":0,\"ticks\":\"\"},\"type\":\"mesh3d\"}],\"parcoords\":[{\"line\":{\"colorbar\":{\"outlinewidth\":0,\"ticks\":\"\"}},\"type\":\"parcoords\"}],\"pie\":[{\"automargin\":true,\"type\":\"pie\"}],\"scatter3d\":[{\"line\":{\"colorbar\":{\"outlinewidth\":0,\"ticks\":\"\"}},\"marker\":{\"colorbar\":{\"outlinewidth\":0,\"ticks\":\"\"}},\"type\":\"scatter3d\"}],\"scattercarpet\":[{\"marker\":{\"colorbar\":{\"outlinewidth\":0,\"ticks\":\"\"}},\"type\":\"scattercarpet\"}],\"scattergeo\":[{\"marker\":{\"colorbar\":{\"outlinewidth\":0,\"ticks\":\"\"}},\"type\":\"scattergeo\"}],\"scattergl\":[{\"marker\":{\"colorbar\":{\"outlinewidth\":0,\"ticks\":\"\"}},\"type\":\"scattergl\"}],\"scattermapbox\":[{\"marker\":{\"colorbar\":{\"outlinewidth\":0,\"ticks\":\"\"}},\"type\":\"scattermapbox\"}],\"scatterpolargl\":[{\"marker\":{\"colorbar\":{\"outlinewidth\":0,\"ticks\":\"\"}},\"type\":\"scatterpolargl\"}],\"scatterpolar\":[{\"marker\":{\"colorbar\":{\"outlinewidth\":0,\"ticks\":\"\"}},\"type\":\"scatterpolar\"}],\"scatter\":[{\"fillpattern\":{\"fillmode\":\"overlay\",\"size\":10,\"solidity\":0.2},\"type\":\"scatter\"}],\"scatterternary\":[{\"marker\":{\"colorbar\":{\"outlinewidth\":0,\"ticks\":\"\"}},\"type\":\"scatterternary\"}],\"surface\":[{\"colorbar\":{\"outlinewidth\":0,\"ticks\":\"\"},\"colorscale\":[[0.0,\"#0d0887\"],[0.1111111111111111,\"#46039f\"],[0.2222222222222222,\"#7201a8\"],[0.3333333333333333,\"#9c179e\"],[0.4444444444444444,\"#bd3786\"],[0.5555555555555556,\"#d8576b\"],[0.6666666666666666,\"#ed7953\"],[0.7777777777777778,\"#fb9f3a\"],[0.8888888888888888,\"#fdca26\"],[1.0,\"#f0f921\"]],\"type\":\"surface\"}],\"table\":[{\"cells\":{\"fill\":{\"color\":\"#EBF0F8\"},\"line\":{\"color\":\"white\"}},\"header\":{\"fill\":{\"color\":\"#C8D4E3\"},\"line\":{\"color\":\"white\"}},\"type\":\"table\"}]},\"layout\":{\"annotationdefaults\":{\"arrowcolor\":\"#2a3f5f\",\"arrowhead\":0,\"arrowwidth\":1},\"autotypenumbers\":\"strict\",\"coloraxis\":{\"colorbar\":{\"outlinewidth\":0,\"ticks\":\"\"}},\"colorscale\":{\"diverging\":[[0,\"#8e0152\"],[0.1,\"#c51b7d\"],[0.2,\"#de77ae\"],[0.3,\"#f1b6da\"],[0.4,\"#fde0ef\"],[0.5,\"#f7f7f7\"],[0.6,\"#e6f5d0\"],[0.7,\"#b8e186\"],[0.8,\"#7fbc41\"],[0.9,\"#4d9221\"],[1,\"#276419\"]],\"sequential\":[[0.0,\"#0d0887\"],[0.1111111111111111,\"#46039f\"],[0.2222222222222222,\"#7201a8\"],[0.3333333333333333,\"#9c179e\"],[0.4444444444444444,\"#bd3786\"],[0.5555555555555556,\"#d8576b\"],[0.6666666666666666,\"#ed7953\"],[0.7777777777777778,\"#fb9f3a\"],[0.8888888888888888,\"#fdca26\"],[1.0,\"#f0f921\"]],\"sequentialminus\":[[0.0,\"#0d0887\"],[0.1111111111111111,\"#46039f\"],[0.2222222222222222,\"#7201a8\"],[0.3333333333333333,\"#9c179e\"],[0.4444444444444444,\"#bd3786\"],[0.5555555555555556,\"#d8576b\"],[0.6666666666666666,\"#ed7953\"],[0.7777777777777778,\"#fb9f3a\"],[0.8888888888888888,\"#fdca26\"],[1.0,\"#f0f921\"]]},\"colorway\":[\"#636efa\",\"#EF553B\",\"#00cc96\",\"#ab63fa\",\"#FFA15A\",\"#19d3f3\",\"#FF6692\",\"#B6E880\",\"#FF97FF\",\"#FECB52\"],\"font\":{\"color\":\"#2a3f5f\"},\"geo\":{\"bgcolor\":\"white\",\"lakecolor\":\"white\",\"landcolor\":\"#E5ECF6\",\"showlakes\":true,\"showland\":true,\"subunitcolor\":\"white\"},\"hoverlabel\":{\"align\":\"left\"},\"hovermode\":\"closest\",\"mapbox\":{\"style\":\"light\"},\"paper_bgcolor\":\"white\",\"plot_bgcolor\":\"#E5ECF6\",\"polar\":{\"angularaxis\":{\"gridcolor\":\"white\",\"linecolor\":\"white\",\"ticks\":\"\"},\"bgcolor\":\"#E5ECF6\",\"radialaxis\":{\"gridcolor\":\"white\",\"linecolor\":\"white\",\"ticks\":\"\"}},\"scene\":{\"xaxis\":{\"backgroundcolor\":\"#E5ECF6\",\"gridcolor\":\"white\",\"gridwidth\":2,\"linecolor\":\"white\",\"showbackground\":true,\"ticks\":\"\",\"zerolinecolor\":\"white\"},\"yaxis\":{\"backgroundcolor\":\"#E5ECF6\",\"gridcolor\":\"white\",\"gridwidth\":2,\"linecolor\":\"white\",\"showbackground\":true,\"ticks\":\"\",\"zerolinecolor\":\"white\"},\"zaxis\":{\"backgroundcolor\":\"#E5ECF6\",\"gridcolor\":\"white\",\"gridwidth\":2,\"linecolor\":\"white\",\"showbackground\":true,\"ticks\":\"\",\"zerolinecolor\":\"white\"}},\"shapedefaults\":{\"line\":{\"color\":\"#2a3f5f\"}},\"ternary\":{\"aaxis\":{\"gridcolor\":\"white\",\"linecolor\":\"white\",\"ticks\":\"\"},\"baxis\":{\"gridcolor\":\"white\",\"linecolor\":\"white\",\"ticks\":\"\"},\"bgcolor\":\"#E5ECF6\",\"caxis\":{\"gridcolor\":\"white\",\"linecolor\":\"white\",\"ticks\":\"\"}},\"title\":{\"x\":0.05},\"xaxis\":{\"automargin\":true,\"gridcolor\":\"white\",\"linecolor\":\"white\",\"ticks\":\"\",\"title\":{\"standoff\":15},\"zerolinecolor\":\"white\",\"zerolinewidth\":2},\"yaxis\":{\"automargin\":true,\"gridcolor\":\"white\",\"linecolor\":\"white\",\"ticks\":\"\",\"title\":{\"standoff\":15},\"zerolinecolor\":\"white\",\"zerolinewidth\":2}}},\"title\":{\"text\":\"Actual vs Predicted\"},\"width\":800,\"xaxis\":{\"anchor\":\"y\",\"domain\":[0.0,1.0],\"tickangle\":-90},\"yaxis\":{\"anchor\":\"x\",\"domain\":[0.0,1.0]}},                        {\"responsive\": true}                    ).then(function(){\n",
       "                            \n",
       "var gd = document.getElementById('b92c13e0-e5a2-4003-966c-2e5755a59b5c');\n",
       "var x = new MutationObserver(function (mutations, observer) {{\n",
       "        var display = window.getComputedStyle(gd).display;\n",
       "        if (!display || display === 'none') {{\n",
       "            console.log([gd, 'removed!']);\n",
       "            Plotly.purge(gd);\n",
       "            observer.disconnect();\n",
       "        }}\n",
       "}});\n",
       "\n",
       "// Listen for the removal of the full notebook cells\n",
       "var notebookContainer = gd.closest('#notebook-container');\n",
       "if (notebookContainer) {{\n",
       "    x.observe(notebookContainer, {childList: true});\n",
       "}}\n",
       "\n",
       "// Listen for the clearing of the current output cell\n",
       "var outputEl = gd.closest('.output');\n",
       "if (outputEl) {{\n",
       "    x.observe(outputEl, {childList: true});\n",
       "}}\n",
       "\n",
       "                        })                };                });            </script>        </div>"
      ]
     },
     "metadata": {},
     "output_type": "display_data"
    }
   ],
   "source": [
    "# Performance as measured by the Root Mean Squared Error\n",
    "train_score = mean_squared_error(y_train, y_train_hat[:,0])\n",
    "print('Train Score: %.2f MSE' % (train_score))\n",
    "test_score = mean_squared_error(y_test, y_test_hat[:,0])\n",
    "print('Test Score: %.2f MSE' % (test_score))\n",
    "\n",
    "model_error = y_test - y_test_hat[:,0]\n",
    "print('Mean Model Error: ', model_error.mean())\n",
    "\n",
    "trace_1 = go.Scatter(\n",
    "    x=df_lags[df_lags.index>'2019-08-01'].index,\n",
    "    y=df_lags[df_lags.index>'2019-08-01']['IPCA'].values,\n",
    "    name='Actual',\n",
    "    marker=dict(color='SteelBlue')\n",
    "    )\n",
    "\n",
    "trace_2 = go.Scatter(\n",
    "    x=df_lags[df_lags.index>'2019-08-01'].index,\n",
    "    y=y_test_hat.reshape(y_test_hat.shape[0]),\n",
    "    name='Predicted',\n",
    "    marker=dict(color='Firebrick')\n",
    "    )\n",
    "\n",
    "fig_1 = make_subplots(specs=[[{\"secondary_y\": False}]])\n",
    "fig_1.add_trace(trace_1)\n",
    "fig_1.add_trace(trace_2,secondary_y=False)\n",
    "fig_1['layout'].update(\n",
    "    height=600,\n",
    "    width=800,\n",
    "    title='Actual vs Predicted',\n",
    "    xaxis=dict(tickangle=-90),\n",
    "    showlegend=True,\n",
    "    )\n",
    "\n",
    "iplot(fig_1)"
   ]
  },
  {
   "cell_type": "code",
   "execution_count": 28,
   "metadata": {},
   "outputs": [
    {
     "name": "stderr",
     "output_type": "stream",
     "text": [
      "WARNING:absl:Found untraced functions such as lstm_cell_layer_call_fn, lstm_cell_layer_call_and_return_conditional_losses, lstm_cell_layer_call_fn, lstm_cell_layer_call_and_return_conditional_losses, lstm_cell_layer_call_and_return_conditional_losses while saving (showing 5 of 5). These functions will not be directly callable after loading.\n"
     ]
    },
    {
     "name": "stdout",
     "output_type": "stream",
     "text": [
      "INFO:tensorflow:Assets written to: saved_model/360neurons_720epochs/assets\n"
     ]
    },
    {
     "name": "stderr",
     "output_type": "stream",
     "text": [
      "INFO:tensorflow:Assets written to: saved_model/360neurons_720epochs/assets\n"
     ]
    }
   ],
   "source": [
    "# Save the entire model as a SavedModel.\n",
    "!mkdir -p saved_model\n",
    "model.save('saved_model/360neurons_720epochs')"
   ]
  },
  {
   "cell_type": "code",
   "execution_count": 29,
   "metadata": {},
   "outputs": [],
   "source": [
    "new_model = load_model('saved_model/360neurons_720epochs')"
   ]
  },
  {
   "cell_type": "code",
   "execution_count": 30,
   "metadata": {},
   "outputs": [
    {
     "name": "stdout",
     "output_type": "stream",
     "text": [
      "Model: \"sequential\"\n",
      "_________________________________________________________________\n",
      "Layer (type)                 Output Shape              Param #   \n",
      "=================================================================\n",
      "lstm (LSTM)                  (None, 360)               521280    \n",
      "_________________________________________________________________\n",
      "dense (Dense)                (None, 1)                 361       \n",
      "=================================================================\n",
      "Total params: 521,641\n",
      "Trainable params: 521,641\n",
      "Non-trainable params: 0\n",
      "_________________________________________________________________\n"
     ]
    }
   ],
   "source": [
    "new_model.summary()"
   ]
  },
  {
   "cell_type": "code",
   "execution_count": 31,
   "metadata": {},
   "outputs": [
    {
     "data": {
      "text/plain": [
       "[array([[0.4978874 , 0.63416255, 1.4111031 , ..., 0.876863  , 0.17220943,\n",
       "         0.2066957 ]], dtype=float32),\n",
       " array([[-0.3174069 , -0.3702187 , -0.5459232 , ..., -0.17599487,\n",
       "          0.02483995,  0.22732396],\n",
       "        [ 0.81833583,  1.0015838 ,  0.29462335, ...,  0.3235031 ,\n",
       "         -0.4395962 ,  0.11434558],\n",
       "        [-0.50103474, -0.691154  , -0.33997238, ...,  0.0359088 ,\n",
       "          0.6176281 ,  0.4570034 ],\n",
       "        ...,\n",
       "        [-0.30427828, -0.18291639,  0.50929594, ..., -0.0609825 ,\n",
       "         -0.24585412, -0.01268614],\n",
       "        [ 0.04418157,  0.0745744 ,  0.2441753 , ...,  0.27552965,\n",
       "         -0.56118786, -0.20730159],\n",
       "        [-0.44234714, -0.10008664, -0.64624983, ..., -0.10829146,\n",
       "          0.46164396,  0.0982066 ]], dtype=float32),\n",
       " array([-0.31288943, -0.1868646 , -0.31756014, ..., -0.48502687,\n",
       "        -0.24117696, -0.03199007], dtype=float32),\n",
       " array([[-9.78576317e-02],\n",
       "        [-4.37082956e-03],\n",
       "        [ 1.48168400e-01],\n",
       "        [ 5.05138747e-02],\n",
       "        [-4.30759392e-05],\n",
       "        [ 1.66751578e-01],\n",
       "        [-3.38214964e-01],\n",
       "        [ 1.21037453e-01],\n",
       "        [ 2.81178504e-02],\n",
       "        [-4.05346751e-02],\n",
       "        [ 8.86617228e-02],\n",
       "        [-2.08813976e-02],\n",
       "        [-1.24463603e-01],\n",
       "        [-1.19310766e-01],\n",
       "        [ 1.49351344e-01],\n",
       "        [-2.25268602e-02],\n",
       "        [-1.50688380e-01],\n",
       "        [-3.94022316e-01],\n",
       "        [ 9.88790989e-02],\n",
       "        [-2.58332491e-01],\n",
       "        [ 6.15410879e-03],\n",
       "        [-3.61923516e-01],\n",
       "        [-6.07667491e-04],\n",
       "        [-9.62133184e-02],\n",
       "        [ 4.03205231e-02],\n",
       "        [ 1.03994422e-01],\n",
       "        [-6.22291490e-02],\n",
       "        [ 1.21233083e-01],\n",
       "        [-1.69353127e-01],\n",
       "        [ 2.30568200e-02],\n",
       "        [ 1.05269225e-02],\n",
       "        [ 2.64425948e-02],\n",
       "        [-7.56108463e-02],\n",
       "        [ 1.38221577e-01],\n",
       "        [ 2.42629461e-02],\n",
       "        [ 2.46376723e-01],\n",
       "        [-1.93158984e-02],\n",
       "        [ 1.44539714e-01],\n",
       "        [-3.19863260e-01],\n",
       "        [ 6.43333718e-02],\n",
       "        [ 6.53037578e-02],\n",
       "        [ 3.29489633e-02],\n",
       "        [-3.59870940e-01],\n",
       "        [ 1.78077504e-01],\n",
       "        [-1.38093799e-01],\n",
       "        [-5.64857991e-03],\n",
       "        [ 1.57736644e-01],\n",
       "        [ 2.39887852e-02],\n",
       "        [ 1.07723726e-02],\n",
       "        [ 1.74716160e-01],\n",
       "        [-8.98201019e-02],\n",
       "        [ 8.48384053e-02],\n",
       "        [ 3.26915272e-02],\n",
       "        [-6.52090758e-02],\n",
       "        [-1.71502456e-01],\n",
       "        [ 3.33925821e-02],\n",
       "        [ 4.85630482e-02],\n",
       "        [ 2.43278965e-01],\n",
       "        [-1.33226752e-01],\n",
       "        [-9.39106867e-02],\n",
       "        [-5.54172061e-02],\n",
       "        [-2.17543449e-03],\n",
       "        [-4.35880691e-01],\n",
       "        [ 6.74624592e-02],\n",
       "        [-6.72456473e-02],\n",
       "        [-2.59085596e-02],\n",
       "        [ 8.24755952e-02],\n",
       "        [-1.93728525e-02],\n",
       "        [ 1.18180089e-01],\n",
       "        [-4.37386073e-02],\n",
       "        [-4.18809056e-02],\n",
       "        [-1.89883057e-02],\n",
       "        [-1.21945292e-01],\n",
       "        [-2.17303727e-02],\n",
       "        [ 1.54792992e-02],\n",
       "        [ 6.95111305e-02],\n",
       "        [ 1.03506893e-02],\n",
       "        [-2.14034602e-01],\n",
       "        [-1.02581508e-01],\n",
       "        [-4.01057489e-02],\n",
       "        [ 2.97415797e-02],\n",
       "        [-1.21527668e-02],\n",
       "        [ 5.30012660e-02],\n",
       "        [-1.32642671e-01],\n",
       "        [ 7.35492334e-02],\n",
       "        [ 1.99646913e-02],\n",
       "        [ 1.59041975e-02],\n",
       "        [-2.08404675e-01],\n",
       "        [-6.73005879e-01],\n",
       "        [ 1.02470547e-01],\n",
       "        [ 7.75690228e-02],\n",
       "        [ 4.54021752e-01],\n",
       "        [ 4.81266342e-02],\n",
       "        [ 3.62032279e-02],\n",
       "        [ 1.15915962e-01],\n",
       "        [ 4.42643426e-02],\n",
       "        [-8.55569169e-02],\n",
       "        [-1.83394685e-01],\n",
       "        [ 1.99719463e-02],\n",
       "        [-2.12878473e-02],\n",
       "        [ 1.99764166e-02],\n",
       "        [ 2.81374007e-02],\n",
       "        [-1.84877831e-02],\n",
       "        [ 2.66167782e-02],\n",
       "        [-1.87025126e-02],\n",
       "        [ 1.11205103e-02],\n",
       "        [-9.90317240e-02],\n",
       "        [ 6.03904761e-02],\n",
       "        [-3.38012017e-02],\n",
       "        [ 7.18999580e-02],\n",
       "        [ 5.60559854e-02],\n",
       "        [-6.92686578e-03],\n",
       "        [-9.08647105e-03],\n",
       "        [ 4.01494466e-03],\n",
       "        [-4.48295251e-02],\n",
       "        [-1.13469869e-01],\n",
       "        [-3.49296853e-02],\n",
       "        [ 1.49755567e-01],\n",
       "        [-1.74850523e-02],\n",
       "        [ 1.03401328e-02],\n",
       "        [ 1.46575302e-01],\n",
       "        [-2.10551266e-02],\n",
       "        [ 2.63791457e-02],\n",
       "        [ 2.75875609e-02],\n",
       "        [-4.22075652e-02],\n",
       "        [-6.02033623e-02],\n",
       "        [-3.81972380e-02],\n",
       "        [ 1.35110170e-01],\n",
       "        [ 3.38344425e-02],\n",
       "        [ 5.72863370e-02],\n",
       "        [-5.22921495e-02],\n",
       "        [-4.27716859e-02],\n",
       "        [ 1.11700380e-02],\n",
       "        [ 2.10782066e-02],\n",
       "        [-1.34420067e-01],\n",
       "        [ 1.08615063e-01],\n",
       "        [-2.69288793e-02],\n",
       "        [-2.20925525e-01],\n",
       "        [ 4.69669402e-01],\n",
       "        [-7.67474174e-02],\n",
       "        [ 1.99074358e-01],\n",
       "        [-8.80870968e-03],\n",
       "        [ 5.44124097e-02],\n",
       "        [-2.63983011e-03],\n",
       "        [ 2.88062185e-01],\n",
       "        [-1.38817772e-01],\n",
       "        [-5.42000262e-03],\n",
       "        [ 1.52904391e-01],\n",
       "        [-2.94776689e-02],\n",
       "        [ 1.49280772e-01],\n",
       "        [ 3.36778283e-01],\n",
       "        [ 4.72187325e-02],\n",
       "        [-3.96819524e-02],\n",
       "        [-4.67202142e-02],\n",
       "        [-6.37770456e-04],\n",
       "        [ 8.22355077e-02],\n",
       "        [ 6.21309280e-02],\n",
       "        [-6.51352014e-03],\n",
       "        [ 2.07692668e-01],\n",
       "        [ 2.84614917e-02],\n",
       "        [-7.11599141e-02],\n",
       "        [ 1.99291900e-01],\n",
       "        [ 3.06208134e-02],\n",
       "        [ 1.58329368e-01],\n",
       "        [-7.62087777e-02],\n",
       "        [ 1.70820933e-02],\n",
       "        [-1.18313897e-02],\n",
       "        [-1.00887477e-01],\n",
       "        [-2.07541138e-01],\n",
       "        [-1.41840592e-01],\n",
       "        [-6.12031221e-01],\n",
       "        [ 5.86919427e-01],\n",
       "        [ 8.81588385e-02],\n",
       "        [-2.87682749e-02],\n",
       "        [-6.11623339e-02],\n",
       "        [-4.69584763e-02],\n",
       "        [ 4.98682819e-02],\n",
       "        [ 4.52435315e-02],\n",
       "        [ 2.06229597e-01],\n",
       "        [-7.68792059e-04],\n",
       "        [ 2.86236815e-02],\n",
       "        [-1.47512138e-01],\n",
       "        [ 9.41614360e-02],\n",
       "        [-5.60371131e-02],\n",
       "        [-7.37284347e-02],\n",
       "        [-2.48607006e-02],\n",
       "        [-7.12487288e-03],\n",
       "        [ 1.21525712e-01],\n",
       "        [ 2.04363819e-02],\n",
       "        [-1.15204915e-01],\n",
       "        [ 3.33956540e-01],\n",
       "        [-1.65136084e-01],\n",
       "        [ 1.07605509e-01],\n",
       "        [ 6.69176280e-02],\n",
       "        [-2.99810141e-01],\n",
       "        [ 9.60216299e-02],\n",
       "        [ 3.22321728e-02],\n",
       "        [ 6.70417910e-03],\n",
       "        [ 4.86707985e-02],\n",
       "        [-4.10714857e-02],\n",
       "        [-6.05116151e-02],\n",
       "        [-3.57778184e-03],\n",
       "        [ 2.11237604e-03],\n",
       "        [-1.33991102e-02],\n",
       "        [-3.64054233e-01],\n",
       "        [ 4.04044688e-02],\n",
       "        [ 5.00258431e-02],\n",
       "        [-6.52658120e-02],\n",
       "        [ 3.37618999e-02],\n",
       "        [ 4.20496985e-02],\n",
       "        [-6.40114069e-01],\n",
       "        [-3.50210406e-02],\n",
       "        [-1.15631856e-01],\n",
       "        [ 5.25410175e-02],\n",
       "        [ 6.81307241e-02],\n",
       "        [-6.38804026e-03],\n",
       "        [-6.83185039e-03],\n",
       "        [ 1.65614337e-01],\n",
       "        [-7.45801106e-02],\n",
       "        [ 2.05313325e-01],\n",
       "        [-2.16575451e-02],\n",
       "        [ 8.52995440e-02],\n",
       "        [-3.53663385e-01],\n",
       "        [-3.10895499e-02],\n",
       "        [-8.25787708e-02],\n",
       "        [ 2.15496540e-01],\n",
       "        [-4.61637527e-02],\n",
       "        [-1.39388293e-01],\n",
       "        [ 4.72627282e-02],\n",
       "        [ 3.10122091e-02],\n",
       "        [-8.06087069e-03],\n",
       "        [-9.74721760e-02],\n",
       "        [-5.14064915e-03],\n",
       "        [ 8.31600875e-02],\n",
       "        [-1.17358126e-01],\n",
       "        [ 1.62614673e-01],\n",
       "        [ 9.58222076e-02],\n",
       "        [-7.82456547e-02],\n",
       "        [-9.92719531e-02],\n",
       "        [-9.79182050e-02],\n",
       "        [-1.00878421e-02],\n",
       "        [-1.45833408e-02],\n",
       "        [ 1.15242228e-02],\n",
       "        [ 2.19547022e-02],\n",
       "        [-1.46836147e-03],\n",
       "        [ 1.62467640e-02],\n",
       "        [ 1.10310316e-01],\n",
       "        [ 5.62676489e-02],\n",
       "        [-1.03042489e-02],\n",
       "        [-6.93762396e-03],\n",
       "        [ 6.76709190e-02],\n",
       "        [ 1.76445879e-02],\n",
       "        [ 1.12002017e-02],\n",
       "        [ 1.02463052e-01],\n",
       "        [-1.11944117e-02],\n",
       "        [ 3.96996997e-02],\n",
       "        [-7.45139048e-02],\n",
       "        [-3.41391563e-02],\n",
       "        [-5.57194799e-02],\n",
       "        [-2.19655223e-02],\n",
       "        [ 1.34830132e-01],\n",
       "        [-1.40413225e-01],\n",
       "        [-1.26848921e-01],\n",
       "        [-1.61931917e-01],\n",
       "        [-2.75067221e-02],\n",
       "        [ 2.80161239e-02],\n",
       "        [ 5.07846801e-03],\n",
       "        [ 1.84206933e-01],\n",
       "        [ 5.59903756e-02],\n",
       "        [ 4.70729843e-02],\n",
       "        [ 6.34855181e-02],\n",
       "        [ 1.09293692e-01],\n",
       "        [-4.77932692e-02],\n",
       "        [ 6.44884212e-03],\n",
       "        [ 1.01434119e-01],\n",
       "        [ 2.41154313e-01],\n",
       "        [ 5.77125512e-02],\n",
       "        [-3.92303169e-02],\n",
       "        [ 2.45025642e-02],\n",
       "        [-3.63697042e-03],\n",
       "        [ 2.06625331e-02],\n",
       "        [ 3.17842234e-03],\n",
       "        [ 1.79600373e-01],\n",
       "        [-4.45382320e-05],\n",
       "        [-2.65601836e-02],\n",
       "        [-4.27529775e-02],\n",
       "        [-2.09337190e-01],\n",
       "        [ 2.61232615e-01],\n",
       "        [-1.27980024e-01],\n",
       "        [ 1.21306861e-02],\n",
       "        [ 7.52252107e-03],\n",
       "        [ 8.58115628e-02],\n",
       "        [-1.71982292e-02],\n",
       "        [ 3.79182585e-02],\n",
       "        [-4.12184708e-02],\n",
       "        [-1.18035883e-01],\n",
       "        [-4.77736108e-02],\n",
       "        [ 1.03409365e-01],\n",
       "        [ 3.25415619e-02],\n",
       "        [ 8.47873650e-03],\n",
       "        [ 9.13600028e-02],\n",
       "        [-1.05440401e-01],\n",
       "        [-8.08663890e-02],\n",
       "        [ 1.23570971e-02],\n",
       "        [-1.72421753e-01],\n",
       "        [ 1.34726427e-02],\n",
       "        [-2.27089114e-02],\n",
       "        [ 1.03269473e-01],\n",
       "        [-3.00496556e-02],\n",
       "        [ 3.88624822e-03],\n",
       "        [-4.94887978e-02],\n",
       "        [ 1.03330771e-02],\n",
       "        [ 4.17450704e-02],\n",
       "        [-3.76983061e-02],\n",
       "        [ 1.84083104e-01],\n",
       "        [ 8.49500485e-03],\n",
       "        [-4.14507948e-02],\n",
       "        [-5.47216162e-02],\n",
       "        [ 4.50537950e-02],\n",
       "        [-2.32737944e-01],\n",
       "        [-1.25540614e-01],\n",
       "        [-4.60926443e-02],\n",
       "        [ 2.58332584e-02],\n",
       "        [-7.64622837e-02],\n",
       "        [ 4.33083028e-02],\n",
       "        [-1.47855625e-01],\n",
       "        [ 1.40878513e-01],\n",
       "        [ 6.80371700e-03],\n",
       "        [-1.18753668e-02],\n",
       "        [ 2.72931993e-01],\n",
       "        [ 6.70615435e-02],\n",
       "        [-7.70920068e-02],\n",
       "        [-7.17922067e-03],\n",
       "        [-5.10879932e-03],\n",
       "        [ 1.08660668e-01],\n",
       "        [-3.04064639e-02],\n",
       "        [ 3.85340415e-02],\n",
       "        [-1.58232242e-01],\n",
       "        [-1.62825197e-01],\n",
       "        [ 3.08434337e-01],\n",
       "        [ 1.78993538e-01],\n",
       "        [-9.78608206e-02],\n",
       "        [ 2.76856661e-01],\n",
       "        [ 2.11216763e-01],\n",
       "        [-2.46298313e-02],\n",
       "        [ 4.32960540e-02],\n",
       "        [-8.20147693e-02],\n",
       "        [-3.55814360e-02],\n",
       "        [-3.48324515e-02],\n",
       "        [-3.06795016e-02],\n",
       "        [ 9.77130085e-02],\n",
       "        [-1.63321178e-02],\n",
       "        [-4.75642458e-02],\n",
       "        [ 2.79590368e-01],\n",
       "        [ 1.53316498e-01],\n",
       "        [ 1.72461499e-03],\n",
       "        [-7.01723322e-02],\n",
       "        [ 2.86495775e-01],\n",
       "        [-1.46964371e-01],\n",
       "        [-3.99955213e-02]], dtype=float32),\n",
       " array([-0.2475927], dtype=float32)]"
      ]
     },
     "execution_count": 31,
     "metadata": {},
     "output_type": "execute_result"
    }
   ],
   "source": [
    "new_model.get_weights()"
   ]
  },
  {
   "cell_type": "code",
   "execution_count": null,
   "metadata": {},
   "outputs": [],
   "source": [
    "# Save the model\n",
    "file_path = Path(r'/home/olavoops/Inflation_Forecast_with_LSTM/model_600Epochs_360Neurons')\n",
    "if file_path.exists():\n",
    "    model_path = input('./?')\n",
    "else:\n",
    "    model_path = file_path\n",
    "\n",
    "#save_model(model, model_file)"
   ]
  },
  {
   "cell_type": "markdown",
   "metadata": {},
   "source": [
    "## Forecasting"
   ]
  },
  {
   "cell_type": "code",
   "execution_count": null,
   "metadata": {},
   "outputs": [],
   "source": [
    "model_file = Path('./model_ZeroHidden_1000Epochs_120Neurons')\n",
    "model = load_model(model_file)"
   ]
  },
  {
   "cell_type": "code",
   "execution_count": null,
   "metadata": {},
   "outputs": [],
   "source": [
    "def save_model(model_path):\n",
    "    model = tf.keras.Sequential()\n",
    "    hub_layer = hub.KerasLayer(\n",
    "        model_path, \n",
    "        input_shape=[], \n",
    "        dtype=tf.string, \n",
    "        trainable=False\n",
    "        )\n",
    "    model.add(hub_layer)\n",
    "    model.save('saved/')\n",
    "\n",
    "save_model(model_path)\n",
    "model = tf.keras.models.load_model('/content/saved')\n",
    "model.summary() # OK \n",
    "model.get_weights() # OK "
   ]
  },
  {
   "cell_type": "code",
   "execution_count": null,
   "metadata": {},
   "outputs": [],
   "source": [
    "x = reconstructed_model.fit(test_x, test_y)"
   ]
  },
  {
   "cell_type": "code",
   "execution_count": null,
   "metadata": {},
   "outputs": [],
   "source": [
    "x.summary()"
   ]
  },
  {
   "cell_type": "code",
   "execution_count": null,
   "metadata": {},
   "outputs": [],
   "source": [
    "# Load the model\n",
    "model = load_model(model_file, compile=True)"
   ]
  },
  {
   "cell_type": "code",
   "execution_count": null,
   "metadata": {},
   "outputs": [],
   "source": [
    "# Preprocessing the input for the first period forecast\n",
    "dataset = df_lags.drop(columns=['T-1'])\n",
    "x_input = dataset.tail(1).values\n",
    "x_input = scaler.transform(x_input.reshape(-1,1))"
   ]
  },
  {
   "cell_type": "code",
   "execution_count": null,
   "metadata": {},
   "outputs": [],
   "source": [
    "# Walk-forward forecast - one-step window - for the next 36 months \n",
    "for i in range(0, 36):\n",
    "    x = x_input[-60:].reshape((1, 60, 1))\n",
    "    output = model.predict(x)[0][0]\n",
    "    x_input = np.append(x_input, [output])"
   ]
  },
  {
   "cell_type": "code",
   "execution_count": null,
   "metadata": {},
   "outputs": [],
   "source": [
    "# Reverse the scale\n",
    "input = scaler.inverse_transform(x_input.reshape(-1,1))"
   ]
  },
  {
   "cell_type": "code",
   "execution_count": null,
   "metadata": {},
   "outputs": [],
   "source": [
    "# Consolidate the data\n",
    "df_pred = pd.DataFrame(\n",
    "    input[-36:],\n",
    "    columns=['IPCA'],\n",
    "    index=pd.date_range('2022-09-01', periods=36, freq='M')\n",
    "    )\n",
    "\n",
    "forecast = pd.concat([df, df_pred], ignore_index=False)\n",
    "\n",
    "forecast"
   ]
  },
  {
   "cell_type": "code",
   "execution_count": null,
   "metadata": {},
   "outputs": [],
   "source": [
    "# The curves\n",
    "trace_2_1 = go.Scatter(\n",
    "    x=df[df.index>='2018-01-01'].index,\n",
    "    y=df.IPCA.values,\n",
    "    name='Actual',\n",
    "    marker=dict(color='SteelBlue')\n",
    "    )\n",
    "\n",
    "trace_2_2 = go.Scatter(\n",
    "    x=df_pred.index,\n",
    "    y=df_pred.IPCA.values,\n",
    "    name='Forecast',\n",
    "    marker=dict(color='Firebrick')\n",
    "    )\n",
    "\n",
    "fig_2 = make_subplots(specs=[[{\"secondary_y\": False}]])\n",
    "fig_2.add_trace(trace_2_1)\n",
    "fig_2.add_trace(trace_2_2,secondary_y=False)\n",
    "fig_2['layout'].update(\n",
    "    height=600,\n",
    "    width=800,\n",
    "    title='Actual vs Forecast',\n",
    "    xaxis=dict(tickangle=-90)\n",
    "    )\n",
    "\n",
    "iplot(fig_2)"
   ]
  },
  {
   "cell_type": "code",
   "execution_count": null,
   "metadata": {},
   "outputs": [],
   "source": [
    "# Using interpolation to convert the monthly data into daily samples\n",
    "daily_forecast = forecast.resample('D').interpolate()\n",
    "daily_forecast"
   ]
  },
  {
   "cell_type": "code",
   "execution_count": null,
   "metadata": {},
   "outputs": [],
   "source": [
    "# Daily Inflation Curve\n",
    "trace_3_1 = go.Scatter(\n",
    "    x=daily_forecast[(daily_forecast.index>'2010-01-01')\n",
    "                    & (daily_forecast.index<'2022-09-01')].index,\n",
    "    y=daily_forecast[(daily_forecast.index>'2010-01-01')\n",
    "                    & (daily_forecast.index<'2022-09-01')].IPCA.values,\n",
    "    name='Actual',\n",
    "    marker=dict(color='SteelBlue'),\n",
    "                    )\n",
    "\n",
    "trace_3_2 = go.Scatter(\n",
    "    x=daily_forecast[daily_forecast.index>='2022-09-01'].index,\n",
    "    y=daily_forecast[daily_forecast.index>='2022-09-01'].IPCA.values,\n",
    "    name='Forecast',\n",
    "    marker=dict(color='Firebrick'),\n",
    "    )\n",
    "\n",
    "fig_3 = make_subplots(specs=[[{\"secondary_y\": False}]])\n",
    "fig_3.add_trace(trace_3_1)\n",
    "fig_3.add_trace(trace_3_2,secondary_y=False)\n",
    "fig_3.update(layout=layout,)\n",
    "fig_3['layout'].update(\n",
    "    height=800,\n",
    "    width=1000,\n",
    "    title='Daily Inflation Curve',\n",
    "    xaxis=dict(tickangle=-90)\n",
    "    )\n",
    "\n",
    "iplot(fig_3)"
   ]
  },
  {
   "attachments": {},
   "cell_type": "markdown",
   "metadata": {},
   "source": [
    "Finally, we save the forecast as a Excel table to share and feed into other analysis. "
   ]
  },
  {
   "cell_type": "code",
   "execution_count": null,
   "metadata": {},
   "outputs": [],
   "source": [
    "# Save a table\n",
    "daily_forecast.to_excel(r'daily_inflation.xlsx')"
   ]
  },
  {
   "cell_type": "markdown",
   "metadata": {},
   "source": [
    "## References\n",
    "Almosova, A., & Andresen, N. (2019). Nonlinear Inflation Forecasting with Recurrent Neural Networks.  \n",
    "Brownlee, J. (2017, April 7). Re: Time Series Forecasting with the Long Short-Term Memory Network in Python. Machine Learning Mastery. https://machinelearningmastery.com/time-series-forecasting-long-short-term-memory-network-python/  \n",
    "Chakraborty, C., & Joseph, A. (2017). Machine learning at central banks.  \n",
    "Garcia, M. G., Medeiros, M. C., & Vasconcelos, G. F. (2017). Real-time inflation forecasting with high-dimensional models: The case of Brazil. International Journal of Forecasting, 33(3), 679-693.  \n",
    "Lazzeri, F. (2020). Machine learning for time series forecasting with Python. John Wiley & Sons.  \n",
    "Medeiros, M. C., Vasconcelos, G. F., Veiga, Á., & Zilberman, E. (2021). Forecasting inflation in a data-rich environment: the benefits of machine learning methods. Journal of Business & Economic Statistics, 39(1), 98-119.  \n",
    "Paranhos, L. (2021). Predicting inflation with neural networks. arXiv preprint arXiv:2104.03757.  \n",
    "Schelter, B., Winterhalder, M., & Timmer, J. (2006). Handbook of time series analysis. Wiley-VCH, Berlin.  \n",
    "\n"
   ]
  }
 ],
 "metadata": {
  "kernelspec": {
   "display_name": "venv",
   "language": "python",
   "name": "python3"
  },
  "language_info": {
   "codemirror_mode": {
    "name": "ipython",
    "version": 3
   },
   "file_extension": ".py",
   "mimetype": "text/x-python",
   "name": "python",
   "nbconvert_exporter": "python",
   "pygments_lexer": "ipython3",
   "version": "3.6.9"
  },
  "orig_nbformat": 4,
  "vscode": {
   "interpreter": {
    "hash": "1a1de8a60ff369b5bad50827366df0a1872e3d8cae81ca60dd5fb58762ecc793"
   }
  }
 },
 "nbformat": 4,
 "nbformat_minor": 2
}
